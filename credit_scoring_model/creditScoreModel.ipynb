{
 "cells": [
  {
   "cell_type": "code",
   "execution_count": 2,
   "metadata": {},
   "outputs": [],
   "source": [
    "import pandas as pd\n",
    "import numpy as np\n",
    "import seaborn as sns\n",
    "import matplotlib as plt\n",
    "from scipy import stats"
   ]
  },
  {
   "cell_type": "code",
   "execution_count": 3,
   "metadata": {},
   "outputs": [
    {
     "name": "stderr",
     "output_type": "stream",
     "text": [
      "C:\\Users\\Samruddhi\\AppData\\Local\\Temp\\ipykernel_1900\\426009815.py:1: DtypeWarning: Columns (26) have mixed types. Specify dtype option on import or set low_memory=False.\n",
      "  train_df=pd.read_csv(\"C:/Users/Samruddhi/Desktop/codealpha/train.csv\")\n"
     ]
    }
   ],
   "source": [
    "train_df=pd.read_csv(\"C:/Users/Samruddhi/Desktop/codealpha/train.csv\")\n",
    "df=train_df.copy()"
   ]
  },
  {
   "cell_type": "code",
   "execution_count": 4,
   "metadata": {},
   "outputs": [
    {
     "name": "stdout",
     "output_type": "stream",
     "text": [
      "       ID Customer_ID     Month           Name   Age          SSN Occupation  \\\n",
      "0  0x1602   CUS_0xd40   January  Aaron Maashoh    23  821-00-0265  Scientist   \n",
      "1  0x1603   CUS_0xd40  February  Aaron Maashoh    23  821-00-0265  Scientist   \n",
      "2  0x1604   CUS_0xd40     March  Aaron Maashoh  -500  821-00-0265  Scientist   \n",
      "3  0x1605   CUS_0xd40     April  Aaron Maashoh    23  821-00-0265  Scientist   \n",
      "4  0x1606   CUS_0xd40       May  Aaron Maashoh    23  821-00-0265  Scientist   \n",
      "\n",
      "  Annual_Income  Monthly_Inhand_Salary  Num_Bank_Accounts  ...  Credit_Mix  \\\n",
      "0      19114.12            1824.843333                  3  ...           _   \n",
      "1      19114.12                    NaN                  3  ...        Good   \n",
      "2      19114.12                    NaN                  3  ...        Good   \n",
      "3      19114.12                    NaN                  3  ...        Good   \n",
      "4      19114.12            1824.843333                  3  ...        Good   \n",
      "\n",
      "   Outstanding_Debt Credit_Utilization_Ratio     Credit_History_Age  \\\n",
      "0            809.98                26.822620  22 Years and 1 Months   \n",
      "1            809.98                31.944960                    NaN   \n",
      "2            809.98                28.609352  22 Years and 3 Months   \n",
      "3            809.98                31.377862  22 Years and 4 Months   \n",
      "4            809.98                24.797347  22 Years and 5 Months   \n",
      "\n",
      "   Payment_of_Min_Amount Total_EMI_per_month Amount_invested_monthly  \\\n",
      "0                     No           49.574949       80.41529543900253   \n",
      "1                     No           49.574949      118.28022162236736   \n",
      "2                     No           49.574949         81.699521264648   \n",
      "3                     No           49.574949       199.4580743910713   \n",
      "4                     No           49.574949      41.420153086217326   \n",
      "\n",
      "                  Payment_Behaviour     Monthly_Balance Credit_Score  \n",
      "0   High_spent_Small_value_payments  312.49408867943663         Good  \n",
      "1    Low_spent_Large_value_payments  284.62916249607184         Good  \n",
      "2   Low_spent_Medium_value_payments   331.2098628537912         Good  \n",
      "3    Low_spent_Small_value_payments  223.45130972736786         Good  \n",
      "4  High_spent_Medium_value_payments  341.48923103222177         Good  \n",
      "\n",
      "[5 rows x 28 columns]\n"
     ]
    }
   ],
   "source": [
    "print(df.head())\n",
    "\n"
   ]
  },
  {
   "cell_type": "code",
   "execution_count": 5,
   "metadata": {},
   "outputs": [
    {
     "name": "stdout",
     "output_type": "stream",
     "text": [
      "<class 'pandas.core.frame.DataFrame'>\n",
      "RangeIndex: 100000 entries, 0 to 99999\n",
      "Data columns (total 28 columns):\n",
      " #   Column                    Non-Null Count   Dtype  \n",
      "---  ------                    --------------   -----  \n",
      " 0   ID                        100000 non-null  object \n",
      " 1   Customer_ID               100000 non-null  object \n",
      " 2   Month                     100000 non-null  object \n",
      " 3   Name                      90015 non-null   object \n",
      " 4   Age                       100000 non-null  object \n",
      " 5   SSN                       100000 non-null  object \n",
      " 6   Occupation                100000 non-null  object \n",
      " 7   Annual_Income             100000 non-null  object \n",
      " 8   Monthly_Inhand_Salary     84998 non-null   float64\n",
      " 9   Num_Bank_Accounts         100000 non-null  int64  \n",
      " 10  Num_Credit_Card           100000 non-null  int64  \n",
      " 11  Interest_Rate             100000 non-null  int64  \n",
      " 12  Num_of_Loan               100000 non-null  object \n",
      " 13  Type_of_Loan              88592 non-null   object \n",
      " 14  Delay_from_due_date       100000 non-null  int64  \n",
      " 15  Num_of_Delayed_Payment    92998 non-null   object \n",
      " 16  Changed_Credit_Limit      100000 non-null  object \n",
      " 17  Num_Credit_Inquiries      98035 non-null   float64\n",
      " 18  Credit_Mix                100000 non-null  object \n",
      " 19  Outstanding_Debt          100000 non-null  object \n",
      " 20  Credit_Utilization_Ratio  100000 non-null  float64\n",
      " 21  Credit_History_Age        90970 non-null   object \n",
      " 22  Payment_of_Min_Amount     100000 non-null  object \n",
      " 23  Total_EMI_per_month       100000 non-null  float64\n",
      " 24  Amount_invested_monthly   95521 non-null   object \n",
      " 25  Payment_Behaviour         100000 non-null  object \n",
      " 26  Monthly_Balance           98800 non-null   object \n",
      " 27  Credit_Score              100000 non-null  object \n",
      "dtypes: float64(4), int64(4), object(20)\n",
      "memory usage: 21.4+ MB\n",
      "None\n"
     ]
    }
   ],
   "source": [
    "print(df.info())"
   ]
  },
  {
   "cell_type": "code",
   "execution_count": 6,
   "metadata": {},
   "outputs": [
    {
     "name": "stdout",
     "output_type": "stream",
     "text": [
      "                             count         mean          std         min  \\\n",
      "Monthly_Inhand_Salary      84998.0  4194.170850  3183.686167  303.645417   \n",
      "Num_Bank_Accounts         100000.0    17.091280   117.404834   -1.000000   \n",
      "Num_Credit_Card           100000.0    22.474430   129.057410    0.000000   \n",
      "Interest_Rate             100000.0    72.466040   466.422621    1.000000   \n",
      "Delay_from_due_date       100000.0    21.068780    14.860104   -5.000000   \n",
      "Num_Credit_Inquiries       98035.0    27.754251   193.177339    0.000000   \n",
      "Credit_Utilization_Ratio  100000.0    32.285173     5.116875   20.000000   \n",
      "Total_EMI_per_month       100000.0  1403.118217  8306.041270    0.000000   \n",
      "\n",
      "                                  25%          50%          75%           max  \n",
      "Monthly_Inhand_Salary     1625.568229  3093.745000  5957.448333  15204.633333  \n",
      "Num_Bank_Accounts            3.000000     6.000000     7.000000   1798.000000  \n",
      "Num_Credit_Card              4.000000     5.000000     7.000000   1499.000000  \n",
      "Interest_Rate                8.000000    13.000000    20.000000   5797.000000  \n",
      "Delay_from_due_date         10.000000    18.000000    28.000000     67.000000  \n",
      "Num_Credit_Inquiries         3.000000     6.000000     9.000000   2597.000000  \n",
      "Credit_Utilization_Ratio    28.052567    32.305784    36.496663     50.000000  \n",
      "Total_EMI_per_month         30.306660    69.249473   161.224249  82331.000000  \n"
     ]
    }
   ],
   "source": [
    "print(df.describe().T)"
   ]
  },
  {
   "cell_type": "code",
   "execution_count": 7,
   "metadata": {},
   "outputs": [
    {
     "name": "stdout",
     "output_type": "stream",
     "text": [
      "                          count  unique                               top  \\\n",
      "ID                       100000  100000                           0x25fb6   \n",
      "Customer_ID              100000   12500                        CUS_0x942c   \n",
      "Month                    100000       8                           January   \n",
      "Name                      90015   10139                            Langep   \n",
      "Age                      100000    1788                                38   \n",
      "SSN                      100000   12501                         #F%$D@*&8   \n",
      "Occupation               100000      16                           _______   \n",
      "Annual_Income            100000   18940                          17273.83   \n",
      "Num_of_Loan              100000     434                                 3   \n",
      "Type_of_Loan              88592    6260                     Not Specified   \n",
      "Num_of_Delayed_Payment    92998     749                                19   \n",
      "Changed_Credit_Limit     100000    4384                                 _   \n",
      "Credit_Mix               100000       4                          Standard   \n",
      "Outstanding_Debt         100000   13178                           1360.45   \n",
      "Credit_History_Age        90970     404            15 Years and 11 Months   \n",
      "Payment_of_Min_Amount    100000       3                               Yes   \n",
      "Amount_invested_monthly   95521   91049                         __10000__   \n",
      "Payment_Behaviour        100000       7    Low_spent_Small_value_payments   \n",
      "Monthly_Balance           98800   98792  __-333333333333333333333333333__   \n",
      "Credit_Score             100000       3                          Standard   \n",
      "\n",
      "                          freq  \n",
      "ID                           1  \n",
      "Customer_ID                  8  \n",
      "Month                    12500  \n",
      "Name                        44  \n",
      "Age                       2833  \n",
      "SSN                       5572  \n",
      "Occupation                7062  \n",
      "Annual_Income               16  \n",
      "Num_of_Loan              14386  \n",
      "Type_of_Loan              1408  \n",
      "Num_of_Delayed_Payment    5327  \n",
      "Changed_Credit_Limit      2091  \n",
      "Credit_Mix               36479  \n",
      "Outstanding_Debt            24  \n",
      "Credit_History_Age         446  \n",
      "Payment_of_Min_Amount    52326  \n",
      "Amount_invested_monthly   4305  \n",
      "Payment_Behaviour        25513  \n",
      "Monthly_Balance              9  \n",
      "Credit_Score             53174  \n"
     ]
    }
   ],
   "source": [
    "print(df.describe(exclude=np.number).T)"
   ]
  },
  {
   "cell_type": "code",
   "execution_count": 8,
   "metadata": {},
   "outputs": [],
   "source": [
    "df_train=df.copy()"
   ]
  },
  {
   "cell_type": "code",
   "execution_count": null,
   "metadata": {},
   "outputs": [],
   "source": []
  },
  {
   "cell_type": "code",
   "execution_count": 9,
   "metadata": {},
   "outputs": [
    {
     "data": {
      "text/plain": [
       "(100000, 28)"
      ]
     },
     "execution_count": 9,
     "metadata": {},
     "output_type": "execute_result"
    }
   ],
   "source": [
    "df.shape"
   ]
  },
  {
   "cell_type": "code",
   "execution_count": 10,
   "metadata": {},
   "outputs": [
    {
     "data": {
      "text/plain": [
       "(100000, 28)"
      ]
     },
     "execution_count": 10,
     "metadata": {},
     "output_type": "execute_result"
    }
   ],
   "source": [
    "df_train.shape"
   ]
  },
  {
   "cell_type": "code",
   "execution_count": 11,
   "metadata": {},
   "outputs": [
    {
     "name": "stdout",
     "output_type": "stream",
     "text": [
      "\n",
      " ID ['0x1602' '0x1603' '0x1604' ... '0x25feb' '0x25fec' '0x25fed']\n",
      "\n",
      " Customer_ID ['CUS_0xd40' 'CUS_0x21b1' 'CUS_0x2dbc' ... 'CUS_0xaf61' 'CUS_0x8600'\n",
      " 'CUS_0x942c']\n",
      "\n",
      " Month ['January' 'February' 'March' 'April' 'May' 'June' 'July' 'August']\n",
      "\n",
      " Name ['Aaron Maashoh' nan 'Rick Rothackerj' ... 'Chris Wickhamm'\n",
      " 'Sarah McBridec' 'Nicks']\n",
      "\n",
      " Age ['23' '-500' '28_' ... '4808_' '2263' '1342']\n",
      "\n",
      " SSN ['821-00-0265' '#F%$D@*&8' '004-07-5839' ... '133-16-7738' '031-35-0942'\n",
      " '078-73-5990']\n",
      "\n",
      " Occupation ['Scientist' '_______' 'Teacher' 'Engineer' 'Entrepreneur' 'Developer'\n",
      " 'Lawyer' 'Media_Manager' 'Doctor' 'Journalist' 'Manager' 'Accountant'\n",
      " 'Musician' 'Mechanic' 'Writer' 'Architect']\n",
      "\n",
      " Annual_Income ['19114.12' '34847.84' '34847.84_' ... '20002.88' '39628.99' '39628.99_']\n",
      "\n",
      " Monthly_Inhand_Salary [1824.84333333           nan 3037.98666667 ... 3097.00833333 1929.90666667\n",
      " 3359.41583333]\n",
      "\n",
      " Num_Bank_Accounts [   3    2    1    7    4    0    8    5    6    9   10 1414 1231   67\n",
      "  572 1488   91  528 1647 1696 1338  649  889 1668  685  857  975 1496\n",
      " 1534 1620   37 1388 1429 1332 1588  120 1777 1096  803  494  744 1139\n",
      "  831 1613  741  121  665 1748 1644  823 1356 1651   87  711  450  210\n",
      " 1671 1722  648  672 1662 1495  510  666  429 1131 1434  980 1026  526\n",
      "  718 1300 1312 1315  501 1566  480 1042  322  628 1016  333 1265  791\n",
      "  427  563  905 1190 1036 1611   38  619  555 1769  280  752 1201  812\n",
      " 1487  222  212 1019 1222  610 1714 1308  525 1158 1115 1616  754 1601\n",
      "  797 1577  521  703  933  959  809 1089 1656 1113 1715  964 1533 1789\n",
      "  871  434 1295  565 1724  603  677  541  698 1101  464 1539 1462 1011\n",
      " 1257 1727   45  244 1266  897  535  484  331  675  826  946 1675  105\n",
      " 1327  845  549  473  710  527  908   68 1628  371  445 1168  868  687\n",
      "  455 1003   26 1526  618  598  351 1342 1783  683 1557 1335  416 1747\n",
      "  137 1475  373  338  942  170  973 1605 1478  386 1448 1033 1225  596\n",
      " 1731 1214 1481 1105  580  347  108  148 1001 1467 1114 1000  632  246\n",
      " 1032 1394  689  482 1303  720  574  588 1358  650  708  179  844 1140\n",
      "  335   60  732 1494 1436  820   28 1576  818  794  731  534  556  691\n",
      " 1197 1155 1255 1763  769 1124  819  318 1418  882   61  264  194 1798\n",
      "  611  840  505 1110  719 1065  195  584  550 1014 1022  903  976   31\n",
      "  417 1423 1148  616  786 1424   55 1061 1293  342   43 1540  488 1122\n",
      " 1274 1075  722 1268   41  814 1564 1390 1141  497  224 1135  441  374\n",
      "   74  314 1408  475 1015  681 1236   59 1425 1637 1240  299 1657 1123\n",
      " 1091 1264 1561 1632 1562  305 1318 1217 1699 1070  864 1391  112  860\n",
      "  595  229 1624 1051  821 1794 1565  397 1368 1353  508 1725 1413 1239\n",
      "  847 1317  570   -1  302  456  198  122  832  167 1547 1666 1241  275\n",
      "  566 1779  201  334 1169  834 1174 1040  530 1676 1468 1093  706  489\n",
      " 1592  688  830 1784 1543 1600 1178  228  483 1501  950  548  870 1211\n",
      "  604  804  129  540 1702 1636 1680 1443 1252  499  180  702  885 1652\n",
      "  795  938  833 1654 1793  303 1621 1516 1138   32  160 1491   83  423\n",
      "  928  339  931  243 1756  583 1695  274  955  430 1247  490  726  987\n",
      "   42 1626 1470 1739  887  211  385 1221  753  324  406 1677 1567  785\n",
      "  182 1079  184 1771 1048 1069  561  589 1634   70 1371  647 1153  239\n",
      "  801 1279 1287  425 1589  929 1511 1765 1047 1005 1337  981 1766  805\n",
      " 1574 1638  186   99  288 1650  974  996 1595 1594  865  203 1440  448\n",
      "  285   94  875  916 1733  240  330   79   82  135 1043  142 1235 1569\n",
      " 1741 1461  560 1551  409  418 1017  892  354  124  935  313 1363  232\n",
      " 1200 1184 1432 1479 1407 1080 1719 1024  970  761  158  312 1060  684\n",
      "  696 1520 1352 1502  936  485  350 1560 1166 1013   34 1691  715 1570\n",
      " 1751 1503 1194 1558  411  298  260  308  796 1442  912 1256  746  435\n",
      "  620 1774 1181 1323  837  307 1430   53 1447  259  921  328 1034  353\n",
      "  822  654  829  609  166  136  172 1306 1028  808  270 1072  514  156\n",
      " 1331 1630  462 1310 1210  265   50 1355  394 1393  226  991  368 1018\n",
      " 1037  627 1744  523  894  944 1730 1076 1094 1617  449  678 1164   30\n",
      "  817 1568  607  709 1230  606 1480   29 1522 1670   49  626 1641 1712\n",
      " 1370 1782  119 1137 1277   35  947  851 1041 1583 1536  575  196  143\n",
      "   33  383   57  621  230  162  352 1504 1250   39  511 1364  918 1665\n",
      "  734 1320  316  771  705 1435  304  116 1553  424  493 1530 1195 1604\n",
      "  624 1599  782 1606 1622 1285  657 1275 1291 1402  420  932  468  442\n",
      " 1145   93 1218  283  292  927 1711 1422  364 1398  594  789 1350  676\n",
      "  216 1012 1426  717 1095 1786  850  777  375  356  701 1325  290 1775\n",
      "  467 1365 1549  848 1453   84 1458  888  770 1591  582   40 1261 1764\n",
      " 1067  145  471  476 1128  967  622  641  539  858  295 1395 1517 1297\n",
      " 1126  926  157 1377  993  125  340  271 1669  272  979  707  564  997\n",
      "  447 1578 1465  415  714 1276   18 1316  587  245  446  978 1002 1631\n",
      "  341 1307  524 1267  103  242 1378 1328 1294 1309  724  197  999  547\n",
      " 1100 1456   77 1506 1472  460   11 1420  218 1253  392  670 1321  100\n",
      " 1205  443   92  811  774  159 1770  972 1157 1102  217  358 1473  440\n",
      "  140 1361  481  512 1117  300 1263 1581  901 1298  310  637  758 1734\n",
      " 1288  326 1678 1444 1344 1379  828  982  104  317 1529 1627  115  645\n",
      " 1404  940 1305 1049 1645 1466  175 1165 1419 1031  581 1580  854  725\n",
      " 1655 1134  569 1387 1381 1760  360 1735 1146 1411  969 1281  591  327\n",
      "  466  667  147  109  784 1396 1349  839 1284  802   97  281 1382 1039\n",
      " 1483  376 1249 1207 1213 1219 1345 1523  949 1063  983  886 1151  992\n",
      " 1107 1314  151   69 1489  695  738  444 1525  825  506  518 1077 1354\n",
      "  713  690  861 1389  968  421  907  205  856   72  651  161  867  971\n",
      " 1078   64 1701  546 1216   27 1709  193 1528  957  577  346 1416  396\n",
      " 1182  652 1083 1778  680 1754 1544 1703  636  472  453  463   75  756\n",
      "  296  891  813  474  697]\n",
      "\n",
      " Num_Credit_Card [   4 1385    5 ...  955 1430  679]\n",
      "\n",
      " Interest_Rate [   3    6    8 ... 1347  387 5729]\n",
      "\n",
      " Num_of_Loan ['4' '1' '3' '967' '-100' '0' '0_' '2' '3_' '2_' '7' '5' '5_' '6' '8' '8_'\n",
      " '9' '9_' '4_' '7_' '1_' '1464' '6_' '622' '352' '472' '1017' '945' '146'\n",
      " '563' '341' '444' '720' '1485' '49' '737' '1106' '466' '728' '313' '843'\n",
      " '597_' '617' '119' '663' '640' '92_' '1019' '501' '1302' '39' '716' '848'\n",
      " '931' '1214' '186' '424' '1001' '1110' '1152' '457' '1433' '1187' '52'\n",
      " '1480' '1047' '1035' '1347_' '33' '193' '699' '329' '1451' '484' '132'\n",
      " '649' '995' '545' '684' '1135' '1094' '1204' '654' '58' '348' '614'\n",
      " '1363' '323' '1406' '1348' '430' '153' '1461' '905' '1312' '1424' '1154'\n",
      " '95' '1353' '1228' '819' '1006' '795' '359' '1209' '590' '696' '1185_'\n",
      " '1465' '911' '1181' '70' '816' '1369' '143' '1416' '455' '55' '1096'\n",
      " '1474' '420' '1131' '904' '89' '1259' '527' '1241' '449' '983' '418'\n",
      " '319' '23' '238' '638' '138' '235_' '280' '1070' '1484' '274' '494'\n",
      " '1459_' '404' '1354' '1495' '1391' '601' '1313' '1319' '898' '231' '752'\n",
      " '174' '961' '1046' '834' '284' '438' '288' '1463' '1151' '719' '198'\n",
      " '1015' '855' '841' '392' '1444' '103' '1320_' '745' '172' '252' '630_'\n",
      " '241' '31' '405' '1217' '1030' '1257' '137' '157' '164' '1088' '1236'\n",
      " '777' '1048' '613' '330' '1439' '321' '661' '952' '939' '562' '1202'\n",
      " '302' '943' '394' '955' '1318' '936' '781' '100' '1329' '1365' '860'\n",
      " '217' '191' '32' '282' '351' '1387' '757' '416' '833' '359_' '292'\n",
      " '1225_' '1227' '639' '859' '243' '267' '510' '332' '996' '597' '311'\n",
      " '492' '820' '336' '123' '540' '131_' '1311_' '1441' '895' '891' '50'\n",
      " '940' '935' '596' '29' '1182' '1129_' '1014' '251' '365' '291' '1447'\n",
      " '742' '1085' '148' '462' '832' '881' '1225' '1412' '785_' '1127' '910'\n",
      " '538' '999' '733' '101' '237' '87' '659' '633' '387' '447' '629' '831'\n",
      " '1384' '773' '621' '1419' '289' '143_' '285' '1393' '1131_' '27_' '1359'\n",
      " '1482' '1189' '1294' '201' '579' '814' '141' '1320' '581' '1171_' '295'\n",
      " '290' '433' '679' '1040' '1054' '1430' '1023' '1077' '1457' '1150' '701'\n",
      " '1382' '889' '437' '372' '1222' '126' '1159' '868' '19' '1297' '227_'\n",
      " '190' '809' '1216' '1074' '571' '520' '1274' '1340' '991' '316' '697'\n",
      " '926' '873' '1002' '378_' '65' '875' '867' '548' '652' '1372' '606'\n",
      " '1036' '1300' '17' '1178' '802' '1219_' '1271' '1137' '1496' '439' '196'\n",
      " '636' '192' '228' '1053' '229' '753' '1296' '1371' '254' '863' '464'\n",
      " '515' '838' '1160' '1289' '1298' '799' '182' '574' '527_' '242' '415'\n",
      " '869' '958' '54' '1265' '656' '275' '778' '208' '147' '350' '507' '463'\n",
      " '497' '1129' '927' '653' '662' '529' '635' '1027_' '897' '1039' '227'\n",
      " '1345' '924' '696_' '1279' '546' '1112' '1210' '526' '300' '1103' '504'\n",
      " '136' '1400' '78' '686' '1091' '344' '215' '84' '628' '1470' '968' '1478'\n",
      " '83' '1196' '1307' '1132_' '1008' '917' '657' '56' '18' '41' '801' '978'\n",
      " '216' '349' '966']\n",
      "\n",
      " Type_of_Loan ['Auto Loan, Credit-Builder Loan, Personal Loan, and Home Equity Loan'\n",
      " 'Credit-Builder Loan' 'Auto Loan, Auto Loan, and Not Specified' ...\n",
      " 'Home Equity Loan, Auto Loan, Auto Loan, and Auto Loan'\n",
      " 'Payday Loan, Student Loan, Mortgage Loan, and Not Specified'\n",
      " 'Personal Loan, Auto Loan, Mortgage Loan, Student Loan, and Student Loan']\n",
      "\n",
      " Delay_from_due_date [ 3 -1  5  6  8  7 13 10  0  4  9  1 12 11 30 31 34 27 14  2 -2 16 17 15\n",
      " 23 22 21 18 19 52 51 48 53 26 43 28 25 20 47 46 49 24 61 29 50 58 45 59\n",
      " 55 56 57 54 62 65 64 67 36 41 33 32 39 44 42 60 35 38 -3 63 40 37 -5 -4\n",
      " 66]\n",
      "\n",
      " Num_of_Delayed_Payment ['7' nan '4' '8_' '6' '1' '-1' '3_' '0' '8' '5' '3' '9' '12' '15' '17'\n",
      " '10' '2' '2_' '11' '14' '20' '22' '13' '13_' '14_' '16' '12_' '18' '19'\n",
      " '23' '24' '21' '3318' '3083' '22_' '1338' '4_' '26' '11_' '3104' '21_'\n",
      " '25' '10_' '183_' '9_' '1106' '834' '19_' '24_' '17_' '23_' '2672' '20_'\n",
      " '2008' '-3' '538' '6_' '1_' '16_' '27' '-2' '3478' '2420' '15_' '707'\n",
      " '708' '26_' '18_' '3815' '28' '5_' '1867' '2250' '1463' '25_' '7_' '4126'\n",
      " '2882' '1941' '2655' '2628' '132' '3069' '306' '0_' '3539' '3684' '1823'\n",
      " '4128' '1946' '827' '2297' '2566' '904' '182' '929' '3568' '2503' '1552'\n",
      " '2812' '1697' '3764' '851' '3905' '923' '88' '1668' '3253' '808' '2689'\n",
      " '3858' '642' '3457' '1402' '1732' '3154' '847' '3037' '2204' '3103'\n",
      " '1063' '2056' '1282' '1841' '2569_' '211' '793' '3484' '411' '3491'\n",
      " '2072' '3050' '1049' '2162' '3402' '2753' '27_' '1718' '1014' '3260'\n",
      " '3855' '84' '2311' '3251' '1832' '4069' '3010' '733' '4241' '166' '2461'\n",
      " '1749' '3200' '663_' '2185' '4161' '3009' '359' '2015' '1523' '594'\n",
      " '1079' '1199' '186' '1015' '1989' '281' '559' '2165' '1509' '3545' '779'\n",
      " '192' '4311' '-2_' '2323' '1471' '1538' '3529' '439' '3456' '3040' '2697'\n",
      " '3179' '1332' '3175' '3112' '829' '4022' '3870' '4023' '531' '1511'\n",
      " '3092' '3191' '2400' '3621' '3536' '544' '1864' '28_' '142' '2300' '264'\n",
      " '72' '497' '398' '2222' '3960' '1473' '3043' '4216' '2903' '2658' '-1_'\n",
      " '4042' '1323_' '2184' '921' '1328' '3404' '2438' '809' '47' '1996' '4164'\n",
      " '1370' '1204' '2167' '4011' '2590' '2594' '2533' '1663' '1018' '2919'\n",
      " '3458' '3316' '2589' '2801' '3355' '2529' '2488' '4266' '1243' '739'\n",
      " '845' '4107' '1884' '337' '2660' '290' '674' '2450' '3738' '1792' '2823'\n",
      " '2570' '775' '960' '482' '1706' '2493' '3623' '3031' '2794_' '2219_'\n",
      " '758_' '1849' '3559' '4096' '3726' '1953' '2657' '4043' '2938' '4384'\n",
      " '1647' '2694' '3533' '519' '2677' '2413' '-3_' '4139' '2609' '4326'\n",
      " '4211' '823' '3011' '1608' '2860' '4219' '4047' '1531' '742' '52' '4024'\n",
      " '1673' '49' '2243' '1685' '1869' '2587' '3489' '749' '1164' '2616' '848_'\n",
      " '4134' '1530' '1502' '4075' '3845' '1060' '2573' '2128' '328' '640'\n",
      " '2585' '2230' '1795' '1180' '1534' '3739' '3313' '4191' '996' '372'\n",
      " '3340' '3177' '602' '787' '4135' '3878' '4059' '1218' '4051' '1766'\n",
      " '1359' '3107' '585' '1263' '2511' '709' '3632' '4077' '2943' '2793'\n",
      " '3245' '2317' '1640' '2237_' '3819' '252' '3978' '1498' '1833' '2737'\n",
      " '1192' '1481' '700' '271' '2286' '273' '1215' '3944' '2070' '1478' '3749'\n",
      " '871' '2508' '2959' '130' '294' '3097_' '3511' '415' '2196' '2138' '2149'\n",
      " '1874' '1553' '3847' '3222' '1222' '2907' '3051' '98' '1598' '416' '2314'\n",
      " '2955' '1691' '1450' '2021' '1636' '80' '3708' '195' '320' '2945' '1911'\n",
      " '3416' '3796' '4159' '2255' '938' '4397' '3776' '2148' '1994' '853'\n",
      " '1178' '1633' '196' '3864' '714' '1687' '1034' '468' '1337' '2044' '1541'\n",
      " '3661' '1211' '2645' '2007' '102' '1891' '3162' '3142' '2566_' '2766'\n",
      " '3881' '2728' '2671' '1952' '3580' '2705' '4251' '3840_' '972' '3119'\n",
      " '3502' '4185' '2954' '683' '1614' '1572' '4302' '3447' '1852' '2131'\n",
      " '1900' '1699' '133' '2018' '2127' '508' '210' '577' '1664' '2604' '1411'\n",
      " '2351' '867' '1371' '2352' '1191' '905' '4053' '3869' '933' '3660' '3300'\n",
      " '3629' '3208' '2142' '2521' '450' '583' '876' '121' '3919' '2560' '2578'\n",
      " '2060' '813' '1236' '1489' '4360' '1154' '2544' '4172' '2924' '426'\n",
      " '4270' '2768' '3909' '3951' '2712' '2498' '3171' '1750' '197' '2569'\n",
      " '265' '4293' '887' '2707' '2397' '4337' '4249' '2751' '2950' '1859' '107'\n",
      " '2348' '2506' '2810' '2873' '1301' '2262' '1890' '3078' '3865' '3268'\n",
      " '2777' '3105' '1278' '3793' '2276' '2879' '4298' '2141' '223' '2239'\n",
      " '846' '1862' '2756' '1181' '1184' '2617' '3972' '2334' '3900' '2759'\n",
      " '4169' '2280' '2492' '2729' '3750' '1825' '309' '2431' '3099' '2080'\n",
      " '2279' '2666' '3722' '1976' '529' '1985' '3060' '4278' '3212' '46' '3148'\n",
      " '3467' '4231' '3790' '473' '1536' '3955' '2324' '2381' '1177' '371'\n",
      " '2896' '3880' '2991' '4319' '1061' '662' '4144' '693' '2006' '3115'\n",
      " '2278_' '3751' '1861' '4262' '2913' '2615' '3492' '800' '3766' '384'\n",
      " '3407' '1087' '3329' '1086' '2216' '1087_' '2457' '3522' '3274' '3488'\n",
      " '2854' '238' '351' '3706' '4280' '4095' '2926' '1329' '3370' '283' '1392'\n",
      " '1743' '2429' '974' '3156' '1133' '4388' '3243' '4282' '2523' '4281'\n",
      " '3415' '2001' '441' '94' '3499' '969' '3368' '106' '1004' '2638' '3946'\n",
      " '2956' '4324' '85' '4113' '819' '615' '1172' '2553' '1765' '3495' '2820'\n",
      " '4239' '4340' '1295_' '2636' '4295' '1653' '1325' '1879' '1096' '1735'\n",
      " '3584' '1073' '1975' '3827' '2552' '3754' '2378' '532' '926' '2376'\n",
      " '3636' '3763' '778' '2621' '804' '754' '2418' '4019' '3926' '3861_'\n",
      " '3574' '175' '162' '2834' '3765' '2354' '523' '2274' '1606' '1443' '1354'\n",
      " '2142_' '1422' '2278' '1045' '4106' '3155' '666' '659' '3229' '1216'\n",
      " '2076' '1473_' '2384' '1954' '719' '2534' '4002' '541' '2875' '4344'\n",
      " '2081' '3894' '1256' '676' '4178' '399' '86' '1571' '4037' '1967' '4005'\n",
      " '3216' '1150' '2591' '1801' '3721' '1775' '2260' '3707' '4292' '1820'\n",
      " '145' '1480' '1850' '430' '217' '3920_' '1389' '1579' '3391' '2385'\n",
      " '3336' '3392' '3688' '221' '2047']\n",
      "\n",
      " Changed_Credit_Limit ['11.27' '_' '6.27' ... '17.509999999999998' '25.16' '21.17']\n",
      "\n",
      " Num_Credit_Inquiries [   4.    2.    3. ... 1361.  310.   74.]\n",
      "\n",
      " Credit_Mix ['_' 'Good' 'Standard' 'Bad']\n",
      "\n",
      " Outstanding_Debt ['809.98' '605.03' '1303.01' ... '3571.7_' '3571.7' '502.38']\n",
      "\n",
      " Credit_Utilization_Ratio [26.82261962 31.94496006 28.60935202 ... 41.25552226 33.63820798\n",
      " 34.19246265]\n",
      "\n",
      " Credit_History_Age ['22 Years and 1 Months' nan '22 Years and 3 Months'\n",
      " '22 Years and 4 Months' '22 Years and 5 Months' '22 Years and 6 Months'\n",
      " '22 Years and 7 Months' '26 Years and 7 Months' '26 Years and 8 Months'\n",
      " '26 Years and 9 Months' '26 Years and 10 Months' '26 Years and 11 Months'\n",
      " '27 Years and 0 Months' '27 Years and 1 Months' '27 Years and 2 Months'\n",
      " '17 Years and 9 Months' '17 Years and 10 Months' '17 Years and 11 Months'\n",
      " '18 Years and 1 Months' '18 Years and 2 Months' '18 Years and 3 Months'\n",
      " '18 Years and 4 Months' '17 Years and 3 Months' '17 Years and 4 Months'\n",
      " '17 Years and 5 Months' '17 Years and 6 Months' '17 Years and 7 Months'\n",
      " '17 Years and 8 Months' '30 Years and 8 Months' '30 Years and 9 Months'\n",
      " '30 Years and 10 Months' '30 Years and 11 Months' '31 Years and 0 Months'\n",
      " '31 Years and 1 Months' '31 Years and 2 Months' '31 Years and 3 Months'\n",
      " '32 Years and 0 Months' '32 Years and 2 Months' '32 Years and 3 Months'\n",
      " '32 Years and 5 Months' '32 Years and 6 Months' '30 Years and 7 Months'\n",
      " '14 Years and 8 Months' '14 Years and 9 Months' '14 Years and 10 Months'\n",
      " '14 Years and 11 Months' '15 Years and 0 Months' '15 Years and 1 Months'\n",
      " '15 Years and 2 Months' '21 Years and 4 Months' '21 Years and 5 Months'\n",
      " '21 Years and 6 Months' '21 Years and 7 Months' '21 Years and 8 Months'\n",
      " '21 Years and 9 Months' '21 Years and 10 Months' '21 Years and 11 Months'\n",
      " '26 Years and 6 Months' '19 Years and 2 Months' '19 Years and 3 Months'\n",
      " '19 Years and 4 Months' '19 Years and 5 Months' '19 Years and 6 Months'\n",
      " '19 Years and 7 Months' '19 Years and 8 Months' '25 Years and 5 Months'\n",
      " '25 Years and 6 Months' '25 Years and 7 Months' '25 Years and 8 Months'\n",
      " '25 Years and 9 Months' '25 Years and 10 Months' '25 Years and 11 Months'\n",
      " '26 Years and 0 Months' '27 Years and 3 Months' '27 Years and 4 Months'\n",
      " '27 Years and 5 Months' '8 Years and 11 Months' '9 Years and 0 Months'\n",
      " '9 Years and 1 Months' '9 Years and 2 Months' '9 Years and 3 Months'\n",
      " '9 Years and 4 Months' '9 Years and 6 Months' '18 Years and 5 Months'\n",
      " '18 Years and 6 Months' '18 Years and 8 Months' '18 Years and 9 Months'\n",
      " '16 Years and 10 Months' '16 Years and 11 Months' '17 Years and 0 Months'\n",
      " '17 Years and 1 Months' '17 Years and 2 Months' '29 Years and 2 Months'\n",
      " '29 Years and 3 Months' '29 Years and 4 Months' '29 Years and 6 Months'\n",
      " '29 Years and 8 Months' '29 Years and 9 Months' '6 Years and 5 Months'\n",
      " '6 Years and 6 Months' '6 Years and 7 Months' '6 Years and 8 Months'\n",
      " '6 Years and 9 Months' '6 Years and 10 Months' '6 Years and 11 Months'\n",
      " '7 Years and 0 Months' '27 Years and 6 Months' '27 Years and 7 Months'\n",
      " '27 Years and 8 Months' '27 Years and 9 Months' '18 Years and 7 Months'\n",
      " '19 Years and 9 Months' '19 Years and 10 Months' '10 Years and 1 Months'\n",
      " '10 Years and 2 Months' '10 Years and 3 Months' '10 Years and 4 Months'\n",
      " '10 Years and 5 Months' '10 Years and 6 Months' '10 Years and 7 Months'\n",
      " '10 Years and 8 Months' '32 Years and 9 Months' '32 Years and 10 Months'\n",
      " '32 Years and 11 Months' '33 Years and 0 Months' '33 Years and 1 Months'\n",
      " '33 Years and 4 Months' '12 Years and 3 Months' '12 Years and 4 Months'\n",
      " '12 Years and 5 Months' '12 Years and 6 Months' '12 Years and 7 Months'\n",
      " '12 Years and 8 Months' '12 Years and 10 Months' '12 Years and 9 Months'\n",
      " '13 Years and 8 Months' '13 Years and 11 Months' '14 Years and 0 Months'\n",
      " '14 Years and 1 Months' '14 Years and 2 Months' '14 Years and 3 Months'\n",
      " '30 Years and 3 Months' '30 Years and 4 Months' '30 Years and 5 Months'\n",
      " '30 Years and 6 Months' '8 Years and 9 Months' '8 Years and 10 Months'\n",
      " '18 Years and 10 Months' '18 Years and 11 Months' '19 Years and 0 Months'\n",
      " '19 Years and 1 Months' '8 Years and 8 Months' '13 Years and 1 Months'\n",
      " '13 Years and 2 Months' '13 Years and 3 Months' '13 Years and 5 Months'\n",
      " '13 Years and 6 Months' '13 Years and 7 Months' '22 Years and 0 Months'\n",
      " '26 Years and 1 Months' '26 Years and 2 Months' '13 Years and 4 Months'\n",
      " '13 Years and 9 Months' '27 Years and 11 Months' '28 Years and 0 Months'\n",
      " '28 Years and 1 Months' '28 Years and 2 Months' '28 Years and 3 Months'\n",
      " '28 Years and 4 Months' '28 Years and 5 Months' '28 Years and 6 Months'\n",
      " '7 Years and 10 Months' '7 Years and 11 Months' '8 Years and 0 Months'\n",
      " '8 Years and 1 Months' '8 Years and 2 Months' '8 Years and 3 Months'\n",
      " '8 Years and 4 Months' '8 Years and 5 Months' '24 Years and 3 Months'\n",
      " '24 Years and 4 Months' '24 Years and 5 Months' '24 Years and 6 Months'\n",
      " '24 Years and 7 Months' '24 Years and 8 Months' '24 Years and 9 Months'\n",
      " '1 Years and 2 Months' '1 Years and 3 Months' '1 Years and 4 Months'\n",
      " '1 Years and 5 Months' '1 Years and 6 Months' '1 Years and 7 Months'\n",
      " '1 Years and 8 Months' '10 Years and 11 Months' '11 Years and 0 Months'\n",
      " '11 Years and 1 Months' '11 Years and 2 Months' '11 Years and 3 Months'\n",
      " '11 Years and 4 Months' '11 Years and 5 Months' '11 Years and 6 Months'\n",
      " '19 Years and 11 Months' '20 Years and 0 Months' '20 Years and 1 Months'\n",
      " '10 Years and 9 Months' '10 Years and 10 Months' '14 Years and 4 Months'\n",
      " '14 Years and 5 Months' '14 Years and 6 Months' '20 Years and 8 Months'\n",
      " '20 Years and 9 Months' '20 Years and 10 Months' '20 Years and 11 Months'\n",
      " '21 Years and 0 Months' '21 Years and 1 Months' '21 Years and 2 Months'\n",
      " '21 Years and 3 Months' '0 Years and 4 Months' '0 Years and 5 Months'\n",
      " '0 Years and 6 Months' '0 Years and 8 Months' '0 Years and 9 Months'\n",
      " '0 Years and 10 Months' '31 Years and 7 Months' '31 Years and 8 Months'\n",
      " '31 Years and 9 Months' '31 Years and 10 Months' '31 Years and 11 Months'\n",
      " '32 Years and 1 Months' '12 Years and 11 Months' '13 Years and 0 Months'\n",
      " '27 Years and 10 Months' '11 Years and 7 Months' '11 Years and 8 Months'\n",
      " '11 Years and 9 Months' '11 Years and 10 Months' '24 Years and 10 Months'\n",
      " '24 Years and 11 Months' '25 Years and 0 Months' '25 Years and 1 Months'\n",
      " '25 Years and 2 Months' '25 Years and 3 Months' '18 Years and 0 Months'\n",
      " '31 Years and 4 Months' '31 Years and 5 Months' '31 Years and 6 Months'\n",
      " '5 Years and 2 Months' '5 Years and 3 Months' '5 Years and 4 Months'\n",
      " '5 Years and 5 Months' '5 Years and 6 Months' '5 Years and 7 Months'\n",
      " '5 Years and 8 Months' '5 Years and 9 Months' '2 Years and 11 Months'\n",
      " '3 Years and 0 Months' '3 Years and 1 Months' '3 Years and 2 Months'\n",
      " '3 Years and 3 Months' '3 Years and 4 Months' '3 Years and 5 Months'\n",
      " '3 Years and 6 Months' '16 Years and 4 Months' '16 Years and 5 Months'\n",
      " '16 Years and 6 Months' '16 Years and 7 Months' '16 Years and 8 Months'\n",
      " '16 Years and 9 Months' '22 Years and 11 Months' '23 Years and 0 Months'\n",
      " '23 Years and 2 Months' '23 Years and 3 Months' '23 Years and 4 Months'\n",
      " '23 Years and 5 Months' '23 Years and 6 Months' '8 Years and 6 Months'\n",
      " '8 Years and 7 Months' '4 Years and 5 Months' '4 Years and 6 Months'\n",
      " '4 Years and 7 Months' '4 Years and 8 Months' '4 Years and 9 Months'\n",
      " '4 Years and 10 Months' '4 Years and 11 Months' '5 Years and 0 Months'\n",
      " '32 Years and 8 Months' '33 Years and 2 Months' '33 Years and 3 Months'\n",
      " '12 Years and 2 Months' '32 Years and 4 Months' '29 Years and 11 Months'\n",
      " '30 Years and 0 Months' '30 Years and 2 Months' '26 Years and 3 Months'\n",
      " '26 Years and 4 Months' '26 Years and 5 Months' '7 Years and 6 Months'\n",
      " '7 Years and 7 Months' '7 Years and 8 Months' '7 Years and 9 Months'\n",
      " '28 Years and 7 Months' '28 Years and 8 Months' '28 Years and 9 Months'\n",
      " '28 Years and 10 Months' '29 Years and 5 Months' '29 Years and 7 Months'\n",
      " '20 Years and 2 Months' '20 Years and 3 Months' '20 Years and 4 Months'\n",
      " '20 Years and 5 Months' '20 Years and 6 Months' '20 Years and 7 Months'\n",
      " '28 Years and 11 Months' '29 Years and 0 Months' '13 Years and 10 Months'\n",
      " '1 Years and 9 Months' '1 Years and 10 Months' '1 Years and 11 Months'\n",
      " '33 Years and 5 Months' '33 Years and 6 Months' '33 Years and 7 Months'\n",
      " '33 Years and 8 Months' '29 Years and 1 Months' '5 Years and 1 Months'\n",
      " '5 Years and 10 Months' '5 Years and 11 Months' '6 Years and 0 Months'\n",
      " '6 Years and 1 Months' '6 Years and 2 Months' '6 Years and 3 Months'\n",
      " '22 Years and 9 Months' '22 Years and 10 Months' '23 Years and 1 Months'\n",
      " '22 Years and 2 Months' '15 Years and 4 Months' '15 Years and 5 Months'\n",
      " '15 Years and 6 Months' '15 Years and 7 Months' '15 Years and 8 Months'\n",
      " '15 Years and 9 Months' '15 Years and 10 Months' '15 Years and 11 Months'\n",
      " '2 Years and 3 Months' '2 Years and 4 Months' '2 Years and 5 Months'\n",
      " '2 Years and 6 Months' '2 Years and 7 Months' '2 Years and 8 Months'\n",
      " '2 Years and 9 Months' '2 Years and 10 Months' '2 Years and 0 Months'\n",
      " '16 Years and 2 Months' '16 Years and 3 Months' '22 Years and 8 Months'\n",
      " '9 Years and 5 Months' '9 Years and 7 Months' '9 Years and 8 Months'\n",
      " '9 Years and 9 Months' '11 Years and 11 Months' '12 Years and 0 Months'\n",
      " '12 Years and 1 Months' '24 Years and 2 Months' '16 Years and 0 Months'\n",
      " '16 Years and 1 Months' '14 Years and 7 Months' '25 Years and 4 Months'\n",
      " '15 Years and 3 Months' '7 Years and 1 Months' '7 Years and 2 Months'\n",
      " '7 Years and 3 Months' '7 Years and 4 Months' '7 Years and 5 Months'\n",
      " '23 Years and 7 Months' '23 Years and 8 Months' '23 Years and 9 Months'\n",
      " '30 Years and 1 Months' '29 Years and 10 Months' '9 Years and 10 Months'\n",
      " '9 Years and 11 Months' '10 Years and 0 Months' '2 Years and 2 Months'\n",
      " '23 Years and 10 Months' '23 Years and 11 Months' '24 Years and 0 Months'\n",
      " '24 Years and 1 Months' '6 Years and 4 Months' '0 Years and 1 Months'\n",
      " '0 Years and 2 Months' '0 Years and 3 Months' '0 Years and 7 Months'\n",
      " '3 Years and 8 Months' '32 Years and 7 Months' '3 Years and 7 Months'\n",
      " '3 Years and 9 Months' '3 Years and 10 Months' '0 Years and 11 Months'\n",
      " '1 Years and 0 Months' '1 Years and 1 Months' '4 Years and 4 Months'\n",
      " '3 Years and 11 Months' '4 Years and 0 Months' '4 Years and 1 Months'\n",
      " '4 Years and 2 Months' '4 Years and 3 Months' '2 Years and 1 Months']\n",
      "\n",
      " Payment_of_Min_Amount ['No' 'NM' 'Yes']\n",
      "\n",
      " Total_EMI_per_month [4.95749492e+01 1.88162146e+01 2.46992319e+02 ... 1.21120000e+04\n",
      " 3.51040226e+01 5.86380000e+04]\n",
      "\n",
      " Amount_invested_monthly ['80.41529543900253' '118.28022162236736' '81.699521264648' ...\n",
      " '24.02847744864441' '251.67258219721603' '167.1638651610451']\n",
      "\n",
      " Payment_Behaviour ['High_spent_Small_value_payments' 'Low_spent_Large_value_payments'\n",
      " 'Low_spent_Medium_value_payments' 'Low_spent_Small_value_payments'\n",
      " 'High_spent_Medium_value_payments' '!@9#%8'\n",
      " 'High_spent_Large_value_payments']\n",
      "\n",
      " Monthly_Balance ['312.49408867943663' '284.62916249607184' '331.2098628537912' ...\n",
      " 516.8090832742814 319.1649785257098 393.6736955618808]\n",
      "\n",
      " Credit_Score ['Good' 'Standard' 'Poor']\n"
     ]
    }
   ],
   "source": [
    "for i in df_train:\n",
    "    print('\\n', i, df_train[i].unique())"
   ]
  },
  {
   "cell_type": "code",
   "execution_count": 12,
   "metadata": {},
   "outputs": [],
   "source": [
    "def get_column_details(df,column):\n",
    "    print(\"Details of\",column,\"column\")\n",
    "    \n",
    "    #DataType of column\n",
    "    print(\"\\nDataType: \",df[column].dtype)\n",
    "    \n",
    "    #Check if null values are present\n",
    "    count_null = df[column].isnull().sum()\n",
    "    if count_null==0:\n",
    "        print(\"\\nThere are no null values\")\n",
    "    elif count_null>0:\n",
    "        print(\"\\nThere are \",count_null,\" null values\")\n",
    "        \n",
    "    #Get Number of Unique Values\n",
    "    print(\"\\nNumber of Unique Values: \",df[column].nunique())\n",
    "    \n",
    "    #Get Distribution of Column    \n",
    "    print(\"\\nDistribution of column:\\n\")\n",
    "    print(df[column].value_counts())\n"
   ]
  },
  {
   "cell_type": "code",
   "execution_count": 13,
   "metadata": {},
   "outputs": [],
   "source": [
    "def fill_missing_with_group_mode(df, groupby, column):      \n",
    "    print(\"\\nNo. of missing values before filling with group mode:\",df[column].isnull().sum())\n",
    "    \n",
    "    # Fill with local mode\n",
    "    mode_per_group = df.groupby(groupby)[column].transform(lambda x: x.mode().iat[0])\n",
    "    df[column] = df[column].fillna(mode_per_group)\n",
    "    \n",
    "    print(\"\\nNo. of missing values after filling with group mode:\",df[column].isnull().sum())"
   ]
  },
  {
   "cell_type": "code",
   "execution_count": 14,
   "metadata": {},
   "outputs": [],
   "source": [
    "#Method to clean categorical field\n",
    "\n",
    "def clean_categorical_field(df,groupby,column,replace_value=None):\n",
    "    print(\"\\n-----------------------------------------------------\")\n",
    "    print(\"\\nCleaning steps \")\n",
    "    \n",
    "    #Replace with np.nan\n",
    "    if replace_value!=None:\n",
    "        df[column] = df[column].replace(replace_value,np.nan)\n",
    "        print(f\"\\nGarbage value {replace_value} is replaced with np.nan\")\n",
    "\n",
    "    #For each Customer_ID, assign same value for the column\n",
    "    fill_missing_with_group_mode(df,groupby,column)"
   ]
  },
  {
   "cell_type": "code",
   "execution_count": 15,
   "metadata": {},
   "outputs": [],
   "source": [
    "\n",
    "def fix_inconsistent_values(df, groupby, column):\n",
    "    print(\"\\nExisting Min, Max Values:\", df[column].min(), df[column].max())\n",
    "\n",
    "    # Group by and get a list of values for each group\n",
    "    df_dropped = df[df[column].notna()].groupby(groupby)[column].apply(list)\n",
    "\n",
    "    # Safely extract the mode, ensuring that no IndexError or TypeError occurs\n",
    "    def safe_mode(x):\n",
    "        mode_result = stats.mode(x, nan_policy='omit')\n",
    "        if isinstance(mode_result.mode, np.ndarray) and mode_result.mode.size > 0:  # Ensure mode_result.mode is not empty\n",
    "            return mode_result.mode[0]\n",
    "        else:\n",
    "            return np.nan\n",
    "\n",
    "    modes = df_dropped.apply(safe_mode)\n",
    "    \n",
    "    # Handle case where all modes might be NaN\n",
    "    if modes.dropna().empty:\n",
    "        mini, maxi = np.nan, np.nan  # No valid modes found\n",
    "    else:\n",
    "        mini, maxi = modes.min(), modes.max()\n",
    "\n",
    "    # Assign values outside the range [mini, maxi] to NaN\n",
    "    df[column] = df[column].apply(lambda x: np.nan if (x < mini or x > maxi or x < 0) else x)\n",
    "\n",
    "    # Fill NaN values with the local mode by group\n",
    "    mode_by_group = df.groupby(groupby)[column].transform(safe_mode)\n",
    "    df[column] = df[column].fillna(mode_by_group)\n",
    "\n",
    "    # Fill remaining NaN values with the overall column mean\n",
    "    df[column] = df[column].fillna(df[column].mean())\n",
    "\n",
    "    # Print cleaned min and max values, unique values, and remaining NaNs\n",
    "    print(\"\\nAfter Cleaning Min, Max Values:\", df[column].min(), df[column].max())\n",
    "    print(\"\\nNo. of Unique values after Cleaning:\", df[column].nunique())\n",
    "    print(\"\\nNo. of Null values after Cleaning:\", df[column].isnull().sum())\n"
   ]
  },
  {
   "cell_type": "code",
   "execution_count": 16,
   "metadata": {},
   "outputs": [],
   "source": [
    "#Method to clean Numerical Field\n",
    "def clean_numerical_field(df,groupby,column,strip=None,datatype=None,replace_value=None):\n",
    "    print(\"\\n-----------------------------------------------------\")\n",
    "    print(\"\\nCleaning steps \")\n",
    "    \n",
    "    #Replace with np.nan\n",
    "    if replace_value!=None:\n",
    "        df[column] = df[column].replace(replace_value,np.nan)\n",
    "        print(f\"\\nGarbage value {replace_value} is replaced with np.nan\")\n",
    "        \n",
    "    # Remove trailing & leading special characters\n",
    "    if df[column].dtype == object and strip is not None:\n",
    "        df[column] = df[column].str.strip(strip)\n",
    "        print(f\"\\nTrailing & leading {strip} are removed\")\n",
    "\n",
    "    # Change datatype\n",
    "    if datatype is not None:\n",
    "        df[column] = df[column].astype(datatype)\n",
    "        print(f\"\\nDatatype of {column} is changed to {datatype}\")\n",
    "\n",
    "    fix_inconsistent_values(df, groupby, column)"
   ]
  },
  {
   "cell_type": "code",
   "execution_count": 17,
   "metadata": {},
   "outputs": [],
   "source": [
    "def plot_countplot(df,column,user_friendly_column_name,rotation=0):\n",
    "    print(\"\\n-----------------------------------------------------\")\n",
    "    print(f'\\n{user_friendly_column_name} Distribution')\n",
    "    palette = \"deep\" \n",
    "    sns.set_palette(palette)\n",
    "    \n",
    "    sns.countplot(data=df, x=column)\n",
    "\n",
    "    plt.xlabel(f'{user_friendly_column_name}')\n",
    "    plt.ylabel('Number of Records')\n",
    "    plt.title(f'{user_friendly_column_name} Distribution')\n",
    "    plt.xticks(rotation=rotation)\n",
    "\n",
    "    plt.show()"
   ]
  },
  {
   "cell_type": "code",
   "execution_count": 18,
   "metadata": {},
   "outputs": [],
   "source": [
    "def plot_displot(df,column,rotation=0,bins=20):\n",
    "    print(\"\\n-----------------------------------------------------\")\n",
    "    print(f'\\n{column} Distribution')\n",
    "    palette = \"deep\" \n",
    "    sns.set_palette(palette)\n",
    "    \n",
    "    sns.displot(data=df, x=column, kde=True, bins=bins)\n",
    "    plt.title(f'{column} Distribution')\n",
    "    plt.xticks(rotation=rotation)\n",
    "\n",
    "    plt.show()"
   ]
  },
  {
   "cell_type": "code",
   "execution_count": 19,
   "metadata": {},
   "outputs": [],
   "source": [
    "def plot_stacked_bar(df,column1,column2,rotation=0):\n",
    "    print(\"\\n-----------------------------------------------------\")\n",
    "    print(f'\\n{column1} & {column2} Distribution')\n",
    "    palette = \"deep\" \n",
    "    sns.set_palette(palette)\n",
    "\n",
    "    pd.crosstab(df[column1], df[column2]).plot(kind='bar', stacked=True)\n",
    "    \n",
    "    plt.xlabel(f'{column1}')\n",
    "    plt.ylabel('Number of Records')\n",
    "    plt.title(f'{column1} & {column2} Distribution')\n",
    "    plt.xticks(rotation=rotation)\n",
    "\n",
    "    plt.show()"
   ]
  },
  {
   "cell_type": "code",
   "execution_count": null,
   "metadata": {},
   "outputs": [],
   "source": []
  },
  {
   "cell_type": "markdown",
   "metadata": {},
   "source": []
  },
  {
   "cell_type": "code",
   "execution_count": 20,
   "metadata": {},
   "outputs": [
    {
     "name": "stdout",
     "output_type": "stream",
     "text": [
      "ID                              0\n",
      "Customer_ID                     0\n",
      "Month                           0\n",
      "Name                         9985\n",
      "Age                             0\n",
      "SSN                             0\n",
      "Occupation                      0\n",
      "Annual_Income                   0\n",
      "Monthly_Inhand_Salary       15002\n",
      "Num_Bank_Accounts               0\n",
      "Num_Credit_Card                 0\n",
      "Interest_Rate                   0\n",
      "Num_of_Loan                     0\n",
      "Type_of_Loan                11408\n",
      "Delay_from_due_date             0\n",
      "Num_of_Delayed_Payment       7002\n",
      "Changed_Credit_Limit            0\n",
      "Num_Credit_Inquiries         1965\n",
      "Credit_Mix                      0\n",
      "Outstanding_Debt                0\n",
      "Credit_Utilization_Ratio        0\n",
      "Credit_History_Age           9030\n",
      "Payment_of_Min_Amount           0\n",
      "Total_EMI_per_month             0\n",
      "Amount_invested_monthly      4479\n",
      "Payment_Behaviour               0\n",
      "Monthly_Balance              1200\n",
      "Credit_Score                    0\n",
      "dtype: int64\n"
     ]
    }
   ],
   "source": [
    "print(df_train.isnull().sum())"
   ]
  },
  {
   "cell_type": "code",
   "execution_count": 21,
   "metadata": {},
   "outputs": [
    {
     "name": "stdout",
     "output_type": "stream",
     "text": [
      "Details of Month column\n",
      "\n",
      "DataType:  object\n",
      "\n",
      "There are no null values\n",
      "\n",
      "Number of Unique Values:  8\n",
      "\n",
      "Distribution of column:\n",
      "\n",
      "Month\n",
      "January     12500\n",
      "February    12500\n",
      "March       12500\n",
      "April       12500\n",
      "May         12500\n",
      "June        12500\n",
      "July        12500\n",
      "August      12500\n",
      "Name: count, dtype: int64\n"
     ]
    }
   ],
   "source": [
    "#month\n",
    "get_column_details(df_train,'Month')"
   ]
  },
  {
   "cell_type": "code",
   "execution_count": 22,
   "metadata": {},
   "outputs": [],
   "source": [
    "df_train['Month'] = pd.to_datetime(df_train.Month, format='%B').dt.month"
   ]
  },
  {
   "cell_type": "code",
   "execution_count": 23,
   "metadata": {},
   "outputs": [
    {
     "name": "stdout",
     "output_type": "stream",
     "text": [
      "Details of Occupation column\n",
      "\n",
      "DataType:  object\n",
      "\n",
      "There are no null values\n",
      "\n",
      "Number of Unique Values:  16\n",
      "\n",
      "Distribution of column:\n",
      "\n",
      "Occupation\n",
      "_______          7062\n",
      "Lawyer           6575\n",
      "Architect        6355\n",
      "Engineer         6350\n",
      "Scientist        6299\n",
      "Mechanic         6291\n",
      "Accountant       6271\n",
      "Developer        6235\n",
      "Media_Manager    6232\n",
      "Teacher          6215\n",
      "Entrepreneur     6174\n",
      "Doctor           6087\n",
      "Journalist       6085\n",
      "Manager          5973\n",
      "Musician         5911\n",
      "Writer           5885\n",
      "Name: count, dtype: int64\n",
      "\n",
      "-----------------------------------------------------\n",
      "\n",
      "Cleaning steps \n",
      "\n",
      "Garbage value _______ is replaced with np.nan\n",
      "\n",
      "No. of missing values before filling with group mode: 7062\n",
      "\n",
      "No. of missing values after filling with group mode: 0\n"
     ]
    }
   ],
   "source": [
    "#Occupation\n",
    "column_name = 'Occupation'\n",
    "group_by = 'Customer_ID'\n",
    "garbage_value = '_______'\n",
    "user_friendly_name = 'Occupation'\n",
    "\n",
    "#Get Details\n",
    "get_column_details(df_train,column_name)\n",
    "\n",
    "#Cleaning\n",
    "clean_categorical_field(df_train,group_by,column_name,garbage_value)"
   ]
  },
  {
   "cell_type": "code",
   "execution_count": 24,
   "metadata": {},
   "outputs": [
    {
     "name": "stdout",
     "output_type": "stream",
     "text": [
      "Details of Age column\n",
      "\n",
      "DataType:  object\n",
      "\n",
      "There are no null values\n",
      "\n",
      "Number of Unique Values:  1788\n",
      "\n",
      "Distribution of column:\n",
      "\n",
      "Age\n",
      "38      2833\n",
      "28      2829\n",
      "31      2806\n",
      "26      2792\n",
      "32      2749\n",
      "        ... \n",
      "2840       1\n",
      "6007       1\n",
      "3904       1\n",
      "333        1\n",
      "4382       1\n",
      "Name: count, Length: 1788, dtype: int64\n",
      "\n",
      "-----------------------------------------------------\n",
      "\n",
      "Cleaning steps \n",
      "\n",
      "Trailing & leading _ are removed\n",
      "\n",
      "Datatype of Age is changed to int\n",
      "\n",
      "Existing Min, Max Values: -500 8698\n",
      "\n",
      "After Cleaning Min, Max Values: 14.0 8698.0\n",
      "\n",
      "No. of Unique values after Cleaning: 1728\n",
      "\n",
      "No. of Null values after Cleaning: 0\n"
     ]
    }
   ],
   "source": [
    "column_name = 'Age'\n",
    "group_by = 'Customer_ID'\n",
    "user_friendly_name = 'Age'\n",
    "\n",
    "#Get Details\n",
    "get_column_details(df_train,column_name)\n",
    "\n",
    "#Cleaning\n",
    "clean_numerical_field(df_train,group_by,column_name,strip='_',datatype='int')"
   ]
  },
  {
   "cell_type": "code",
   "execution_count": 25,
   "metadata": {},
   "outputs": [
    {
     "name": "stdout",
     "output_type": "stream",
     "text": [
      "Details of Annual_Income column\n",
      "\n",
      "DataType:  object\n",
      "\n",
      "There are no null values\n",
      "\n",
      "Number of Unique Values:  18940\n",
      "\n",
      "Distribution of column:\n",
      "\n",
      "Annual_Income\n",
      "17273.83      16\n",
      "20867.67      16\n",
      "36585.12      16\n",
      "9141.63       15\n",
      "95596.35      15\n",
      "              ..\n",
      "114389.24_     1\n",
      "64650.48_      1\n",
      "23589996.0     1\n",
      "15762.82_      1\n",
      "92047.08_      1\n",
      "Name: count, Length: 18940, dtype: int64\n",
      "\n",
      "-----------------------------------------------------\n",
      "\n",
      "Cleaning steps \n",
      "\n",
      "Trailing & leading _ are removed\n",
      "\n",
      "Datatype of Annual_Income is changed to float\n",
      "\n",
      "Existing Min, Max Values: 7005.93 24198062.0\n",
      "\n",
      "After Cleaning Min, Max Values: 7005.93 24198062.0\n",
      "\n",
      "No. of Unique values after Cleaning: 13487\n",
      "\n",
      "No. of Null values after Cleaning: 0\n"
     ]
    }
   ],
   "source": [
    "#Annual_Income\n",
    "column_name = 'Annual_Income'\n",
    "group_by = 'Customer_ID'\n",
    "user_friendly_name = 'Annual Income'\n",
    "\n",
    "get_column_details(df_train,column_name)\n",
    "\n",
    "#Cleaning\n",
    "clean_numerical_field(df_train,group_by,column_name,strip='_',datatype='float')"
   ]
  },
  {
   "cell_type": "code",
   "execution_count": 26,
   "metadata": {},
   "outputs": [
    {
     "name": "stdout",
     "output_type": "stream",
     "text": [
      "Details of Monthly_Inhand_Salary column\n",
      "\n",
      "DataType:  float64\n",
      "\n",
      "There are  15002  null values\n",
      "\n",
      "Number of Unique Values:  13235\n",
      "\n",
      "Distribution of column:\n",
      "\n",
      "Monthly_Inhand_Salary\n",
      "6082.187500     15\n",
      "2295.058333     15\n",
      "6769.130000     15\n",
      "6358.956667     15\n",
      "3080.555000     14\n",
      "                ..\n",
      "11102.135322     1\n",
      "1904.390000      1\n",
      "1023.217588      1\n",
      "9525.400376      1\n",
      "1069.950000      1\n",
      "Name: count, Length: 13235, dtype: int64\n",
      "\n",
      "-----------------------------------------------------\n",
      "\n",
      "Cleaning steps \n",
      "\n",
      "Existing Min, Max Values: 303.6454166666666 15204.633333333331\n",
      "\n",
      "After Cleaning Min, Max Values: 303.6454166666666 15204.633333333331\n",
      "\n",
      "No. of Unique values after Cleaning: 13236\n",
      "\n",
      "No. of Null values after Cleaning: 0\n"
     ]
    }
   ],
   "source": [
    "#Monthly_Inhand_Salary\n",
    "column_name = 'Monthly_Inhand_Salary'\n",
    "group_by = 'Customer_ID'\n",
    "#Get Details\n",
    "get_column_details(df_train,column_name)\n",
    "#Cleaning\n",
    "clean_numerical_field(df_train,group_by,column_name)"
   ]
  },
  {
   "cell_type": "code",
   "execution_count": 27,
   "metadata": {},
   "outputs": [
    {
     "name": "stdout",
     "output_type": "stream",
     "text": [
      "Details of Num_Bank_Accounts column\n",
      "\n",
      "DataType:  int64\n",
      "\n",
      "There are no null values\n",
      "\n",
      "Number of Unique Values:  943\n",
      "\n",
      "Distribution of column:\n",
      "\n",
      "Num_Bank_Accounts\n",
      "6       13001\n",
      "7       12823\n",
      "8       12765\n",
      "4       12186\n",
      "5       12118\n",
      "        ...  \n",
      "665         1\n",
      "1388        1\n",
      "1429        1\n",
      "1588        1\n",
      "1777        1\n",
      "Name: count, Length: 943, dtype: int64\n",
      "\n",
      "-----------------------------------------------------\n",
      "\n",
      "Cleaning steps \n",
      "\n",
      "Datatype of Num_Bank_Accounts is changed to <class 'float'>\n",
      "\n",
      "Existing Min, Max Values: -1.0 1798.0\n",
      "\n",
      "After Cleaning Min, Max Values: 0.0 1798.0\n",
      "\n",
      "No. of Unique values after Cleaning: 943\n",
      "\n",
      "No. of Null values after Cleaning: 0\n"
     ]
    }
   ],
   "source": [
    "#Num_Bank_Accounts\n",
    "column_name='Num_Bank_Accounts'\n",
    "group_by='Customer_ID'\n",
    "get_column_details(df_train,column_name)\n",
    "clean_numerical_field(df_train,group_by,column_name,strip='_',datatype=float)"
   ]
  },
  {
   "cell_type": "code",
   "execution_count": 28,
   "metadata": {},
   "outputs": [
    {
     "name": "stdout",
     "output_type": "stream",
     "text": [
      "Details of Num_Credit_Card column\n",
      "\n",
      "DataType:  int64\n",
      "\n",
      "There are no null values\n",
      "\n",
      "Number of Unique Values:  1179\n",
      "\n",
      "Distribution of column:\n",
      "\n",
      "Num_Credit_Card\n",
      "5      18459\n",
      "7      16615\n",
      "6      16559\n",
      "4      14030\n",
      "3      13277\n",
      "       ...  \n",
      "551        1\n",
      "426        1\n",
      "784        1\n",
      "673        1\n",
      "599        1\n",
      "Name: count, Length: 1179, dtype: int64\n",
      "\n",
      "-----------------------------------------------------\n",
      "\n",
      "Cleaning steps \n",
      "\n",
      "Datatype of Num_Credit_Card is changed to <class 'float'>\n",
      "\n",
      "Existing Min, Max Values: 0.0 1499.0\n",
      "\n",
      "After Cleaning Min, Max Values: 0.0 1499.0\n",
      "\n",
      "No. of Unique values after Cleaning: 1179\n",
      "\n",
      "No. of Null values after Cleaning: 0\n"
     ]
    }
   ],
   "source": [
    "#Num_Credit_Card\n",
    "column_name='Num_Credit_Card'\n",
    "group_by='Customer_ID'\n",
    "get_column_details(df_train,column_name)\n",
    "clean_numerical_field(df_train,group_by,column_name,strip='_',datatype=float)"
   ]
  },
  {
   "cell_type": "code",
   "execution_count": 29,
   "metadata": {},
   "outputs": [
    {
     "name": "stdout",
     "output_type": "stream",
     "text": [
      "Details of Interest_Rate column\n",
      "\n",
      "DataType:  int64\n",
      "\n",
      "There are no null values\n",
      "\n",
      "Number of Unique Values:  1750\n",
      "\n",
      "Distribution of column:\n",
      "\n",
      "Interest_Rate\n",
      "8       5012\n",
      "5       4979\n",
      "6       4721\n",
      "12      4540\n",
      "10      4540\n",
      "        ... \n",
      "3831       1\n",
      "4425       1\n",
      "4446       1\n",
      "2077       1\n",
      "3032       1\n",
      "Name: count, Length: 1750, dtype: int64\n",
      "\n",
      "-----------------------------------------------------\n",
      "\n",
      "Cleaning steps \n",
      "\n",
      "Datatype of Interest_Rate is changed to <class 'float'>\n",
      "\n",
      "Existing Min, Max Values: 1.0 5797.0\n",
      "\n",
      "After Cleaning Min, Max Values: 1.0 5797.0\n",
      "\n",
      "No. of Unique values after Cleaning: 1750\n",
      "\n",
      "No. of Null values after Cleaning: 0\n"
     ]
    }
   ],
   "source": [
    "#Interest_Rate\n",
    "column_name='Interest_Rate'\n",
    "group_by='Customer_ID'\n",
    "get_column_details(df_train,column_name)\n",
    "clean_numerical_field(df_train,group_by,column_name,strip='_',datatype=float)"
   ]
  },
  {
   "cell_type": "code",
   "execution_count": 30,
   "metadata": {},
   "outputs": [
    {
     "name": "stdout",
     "output_type": "stream",
     "text": [
      "Details of Num_of_Loan column\n",
      "\n",
      "DataType:  object\n",
      "\n",
      "There are no null values\n",
      "\n",
      "Number of Unique Values:  434\n",
      "\n",
      "Distribution of column:\n",
      "\n",
      "Num_of_Loan\n",
      "3       14386\n",
      "2       14250\n",
      "4       14016\n",
      "0       10380\n",
      "1       10083\n",
      "        ...  \n",
      "640         1\n",
      "92_         1\n",
      "1019        1\n",
      "897         1\n",
      "1091        1\n",
      "Name: count, Length: 434, dtype: int64\n",
      "\n",
      "-----------------------------------------------------\n",
      "\n",
      "Cleaning steps \n",
      "\n",
      "Trailing & leading _ are removed\n",
      "\n",
      "Datatype of Num_of_Loan is changed to <class 'float'>\n",
      "\n",
      "Existing Min, Max Values: -100.0 1496.0\n",
      "\n",
      "After Cleaning Min, Max Values: 0.0 1496.0\n",
      "\n",
      "No. of Unique values after Cleaning: 414\n",
      "\n",
      "No. of Null values after Cleaning: 0\n"
     ]
    }
   ],
   "source": [
    "#Num_of_Loan\n",
    "column_name='Num_of_Loan'\n",
    "group_by='Customer_ID'\n",
    "get_column_details(df_train,column_name)\n",
    "clean_numerical_field(df_train,group_by,column_name,strip='_',datatype=float)\n"
   ]
  },
  {
   "cell_type": "code",
   "execution_count": 31,
   "metadata": {},
   "outputs": [
    {
     "name": "stdout",
     "output_type": "stream",
     "text": [
      "Details of Type_of_Loan column\n",
      "\n",
      "DataType:  object\n",
      "\n",
      "There are  11408  null values\n",
      "\n",
      "Number of Unique Values:  6260\n",
      "\n",
      "Distribution of column:\n",
      "\n",
      "Type_of_Loan\n",
      "Not Specified                                                                                        1408\n",
      "Credit-Builder Loan                                                                                  1280\n",
      "Personal Loan                                                                                        1272\n",
      "Debt Consolidation Loan                                                                              1264\n",
      "Student Loan                                                                                         1240\n",
      "                                                                                                     ... \n",
      "Auto Loan, Payday Loan, Auto Loan, Student Loan, Student Loan, Student Loan, and Home Equity Loan       8\n",
      "Home Equity Loan, Payday Loan, Not Specified, and Personal Loan                                         8\n",
      "Home Equity Loan, Auto Loan, Auto Loan, and Auto Loan                                                   8\n",
      "Payday Loan, Student Loan, Mortgage Loan, and Not Specified                                             8\n",
      "Personal Loan, Home Equity Loan, Payday Loan, Payday Loan, and Not Specified                            8\n",
      "Name: count, Length: 6260, dtype: int64\n"
     ]
    }
   ],
   "source": [
    "#Type_of_Loan\n",
    "column_name='Type_of_Loan'\n",
    "group_by='Customer_ID'\n",
    "get_column_details(df_train,column_name)"
   ]
  },
  {
   "cell_type": "code",
   "execution_count": 32,
   "metadata": {},
   "outputs": [
    {
     "name": "stdout",
     "output_type": "stream",
     "text": [
      "Details of Type_of_Loan column\n",
      "\n",
      "DataType:  object\n",
      "\n",
      "There are no null values\n",
      "\n",
      "Number of Unique Values:  6261\n",
      "\n",
      "Distribution of column:\n",
      "\n",
      "Type_of_Loan\n",
      "Not Specified                                                                                        11408\n",
      "Not Specified                                                                                         1408\n",
      "Credit-Builder Loan                                                                                   1280\n",
      "Personal Loan                                                                                         1272\n",
      "Debt Consolidation Loan                                                                               1264\n",
      "                                                                                                     ...  \n",
      "Auto Loan, Payday Loan, Auto Loan, Student Loan, Student Loan, Student Loan, and Home Equity Loan        8\n",
      "Home Equity Loan, Payday Loan, Not Specified, and Personal Loan                                          8\n",
      "Home Equity Loan, Auto Loan, Auto Loan, and Auto Loan                                                    8\n",
      "Payday Loan, Student Loan, Mortgage Loan, and Not Specified                                              8\n",
      "Personal Loan, Home Equity Loan, Payday Loan, Payday Loan, and Not Specified                             8\n",
      "Name: count, Length: 6261, dtype: int64\n"
     ]
    },
    {
     "name": "stderr",
     "output_type": "stream",
     "text": [
      "C:\\Users\\Samruddhi\\AppData\\Local\\Temp\\ipykernel_1900\\3916896211.py:1: FutureWarning: A value is trying to be set on a copy of a DataFrame or Series through chained assignment using an inplace method.\n",
      "The behavior will change in pandas 3.0. This inplace method will never work because the intermediate object on which we are setting values always behaves as a copy.\n",
      "\n",
      "For example, when doing 'df[col].method(value, inplace=True)', try using 'df.method({col: value}, inplace=True)' or df[col] = df[col].method(value) instead, to perform the operation inplace on the original object.\n",
      "\n",
      "\n",
      "  df_train['Type_of_Loan'].replace([np.nan],'Not Specified ',inplace=True)\n"
     ]
    }
   ],
   "source": [
    "df_train['Type_of_Loan'].replace([np.nan],'Not Specified ',inplace=True)\n",
    "get_column_details(df_train,column_name)"
   ]
  },
  {
   "cell_type": "code",
   "execution_count": 33,
   "metadata": {},
   "outputs": [
    {
     "name": "stdout",
     "output_type": "stream",
     "text": [
      "Details of Delay_from_due_date column\n",
      "\n",
      "DataType:  int64\n",
      "\n",
      "There are no null values\n",
      "\n",
      "Number of Unique Values:  73\n",
      "\n",
      "Distribution of column:\n",
      "\n",
      "Delay_from_due_date\n",
      " 15    3596\n",
      " 13    3424\n",
      " 8     3324\n",
      " 14    3313\n",
      " 10    3281\n",
      "       ... \n",
      "-4       62\n",
      " 65      56\n",
      "-5       33\n",
      " 66      32\n",
      " 67      22\n",
      "Name: count, Length: 73, dtype: int64\n",
      "\n",
      "-----------------------------------------------------\n",
      "\n",
      "Cleaning steps \n",
      "\n",
      "Existing Min, Max Values: -5 67\n",
      "\n",
      "After Cleaning Min, Max Values: 0.0 67.0\n",
      "\n",
      "No. of Unique values after Cleaning: 69\n",
      "\n",
      "No. of Null values after Cleaning: 0\n"
     ]
    }
   ],
   "source": [
    "#Delay_from_due_date\n",
    "column_name='Delay_from_due_date'\n",
    "group_by='Customer_ID'\n",
    "get_column_details(df_train,column_name)\n",
    "clean_numerical_field(df_train,group_by,column_name)"
   ]
  },
  {
   "cell_type": "code",
   "execution_count": 34,
   "metadata": {},
   "outputs": [
    {
     "name": "stdout",
     "output_type": "stream",
     "text": [
      "Details of Num_of_Delayed_Payment column\n",
      "\n",
      "DataType:  object\n",
      "\n",
      "There are  7002  null values\n",
      "\n",
      "Number of Unique Values:  749\n",
      "\n",
      "Distribution of column:\n",
      "\n",
      "Num_of_Delayed_Payment\n",
      "19      5327\n",
      "17      5261\n",
      "16      5173\n",
      "10      5153\n",
      "18      5083\n",
      "        ... \n",
      "3336       1\n",
      "3392       1\n",
      "3688       1\n",
      "221        1\n",
      "2636       1\n",
      "Name: count, Length: 749, dtype: int64\n",
      "\n",
      "-----------------------------------------------------\n",
      "\n",
      "Cleaning steps \n",
      "\n",
      "Trailing & leading _ are removed\n",
      "\n",
      "Datatype of Num_of_Delayed_Payment is changed to float\n",
      "\n",
      "Existing Min, Max Values: -3.0 4397.0\n",
      "\n",
      "After Cleaning Min, Max Values: 0.0 4397.0\n",
      "\n",
      "No. of Unique values after Cleaning: 709\n",
      "\n",
      "No. of Null values after Cleaning: 0\n"
     ]
    }
   ],
   "source": [
    "# Num_of_Delayed_Payment\n",
    "column_name='Num_of_Delayed_Payment'\n",
    "group_by='Customer_ID'\n",
    "get_column_details(df_train,column_name)\n",
    "clean_numerical_field(df_train,group_by,column_name,strip='_',datatype='float')"
   ]
  },
  {
   "cell_type": "code",
   "execution_count": 35,
   "metadata": {},
   "outputs": [
    {
     "name": "stdout",
     "output_type": "stream",
     "text": [
      "Details of Changed_Credit_Limit column\n",
      "\n",
      "DataType:  object\n",
      "\n",
      "There are no null values\n",
      "\n",
      "Number of Unique Values:  4384\n",
      "\n",
      "Distribution of column:\n",
      "\n",
      "Changed_Credit_Limit\n",
      "_                     2091\n",
      "8.22                   133\n",
      "11.5                   127\n",
      "11.32                  126\n",
      "7.35                   121\n",
      "                      ... \n",
      "27.38                    1\n",
      "21.17                    1\n",
      "0.8199999999999998       1\n",
      "30.91                    1\n",
      "-6.2                     1\n",
      "Name: count, Length: 4384, dtype: int64\n"
     ]
    }
   ],
   "source": [
    "# Changed_Credit_Limit\n",
    "column_name='Changed_Credit_Limit'\n",
    "group_by='Customer_ID'\n",
    "get_column_details(df_train,column_name)"
   ]
  },
  {
   "cell_type": "code",
   "execution_count": 36,
   "metadata": {},
   "outputs": [
    {
     "name": "stdout",
     "output_type": "stream",
     "text": [
      "\n",
      "-----------------------------------------------------\n",
      "\n",
      "Cleaning steps \n",
      "\n",
      "Garbage value _ is replaced with np.nan\n",
      "\n",
      "Trailing & leading _ are removed\n",
      "\n",
      "Datatype of Changed_Credit_Limit is changed to float\n",
      "\n",
      "Existing Min, Max Values: -6.49 36.97\n",
      "\n",
      "After Cleaning Min, Max Values: 0.0 36.97\n",
      "\n",
      "No. of Unique values after Cleaning: 3724\n",
      "\n",
      "No. of Null values after Cleaning: 0\n"
     ]
    }
   ],
   "source": [
    "clean_numerical_field(df_train,group_by,column_name,strip='_',datatype='float',replace_value='_')"
   ]
  },
  {
   "cell_type": "code",
   "execution_count": 37,
   "metadata": {},
   "outputs": [
    {
     "name": "stdout",
     "output_type": "stream",
     "text": [
      "Details of Num_Credit_Inquiries column\n",
      "\n",
      "DataType:  float64\n",
      "\n",
      "There are  1965  null values\n",
      "\n",
      "Number of Unique Values:  1223\n",
      "\n",
      "Distribution of column:\n",
      "\n",
      "Num_Credit_Inquiries\n",
      "4.0       11271\n",
      "3.0        8890\n",
      "6.0        8111\n",
      "7.0        8058\n",
      "2.0        8028\n",
      "          ...  \n",
      "719.0         1\n",
      "2239.0        1\n",
      "2001.0        1\n",
      "1953.0        1\n",
      "2473.0        1\n",
      "Name: count, Length: 1223, dtype: int64\n"
     ]
    }
   ],
   "source": [
    "#Num_Credit_Inquiries\n",
    "column_name='Num_Credit_Inquiries'\n",
    "group_by='Customer_ID'\n",
    "get_column_details(df_train,column_name)"
   ]
  },
  {
   "cell_type": "code",
   "execution_count": 38,
   "metadata": {},
   "outputs": [
    {
     "name": "stdout",
     "output_type": "stream",
     "text": [
      "\n",
      "-----------------------------------------------------\n",
      "\n",
      "Cleaning steps \n",
      "\n",
      "Existing Min, Max Values: 0.0 2597.0\n",
      "\n",
      "After Cleaning Min, Max Values: 0.0 2597.0\n",
      "\n",
      "No. of Unique values after Cleaning: 1224\n",
      "\n",
      "No. of Null values after Cleaning: 0\n"
     ]
    }
   ],
   "source": [
    "clean_numerical_field(df_train,group_by,column_name)"
   ]
  },
  {
   "cell_type": "code",
   "execution_count": 39,
   "metadata": {},
   "outputs": [
    {
     "name": "stdout",
     "output_type": "stream",
     "text": [
      "Details of Credit_Mix column\n",
      "\n",
      "DataType:  object\n",
      "\n",
      "There are no null values\n",
      "\n",
      "Number of Unique Values:  4\n",
      "\n",
      "Distribution of column:\n",
      "\n",
      "Credit_Mix\n",
      "Standard    36479\n",
      "Good        24337\n",
      "_           20195\n",
      "Bad         18989\n",
      "Name: count, dtype: int64\n"
     ]
    }
   ],
   "source": [
    "#Credit_Mix \n",
    "column_name='Credit_Mix'\n",
    "group_by='Customer_ID'\n",
    "get_column_details(df_train,column_name)"
   ]
  },
  {
   "cell_type": "code",
   "execution_count": 40,
   "metadata": {},
   "outputs": [
    {
     "name": "stdout",
     "output_type": "stream",
     "text": [
      "\n",
      "-----------------------------------------------------\n",
      "\n",
      "Cleaning steps \n",
      "\n",
      "Garbage value _ is replaced with np.nan\n",
      "\n",
      "No. of missing values before filling with group mode: 20195\n",
      "\n",
      "No. of missing values after filling with group mode: 0\n"
     ]
    }
   ],
   "source": [
    "clean_categorical_field(df_train,group_by,column_name,replace_value='_')"
   ]
  },
  {
   "cell_type": "code",
   "execution_count": 41,
   "metadata": {},
   "outputs": [
    {
     "name": "stdout",
     "output_type": "stream",
     "text": [
      "Details of Outstanding_Debt column\n",
      "\n",
      "DataType:  object\n",
      "\n",
      "There are no null values\n",
      "\n",
      "Number of Unique Values:  13178\n",
      "\n",
      "Distribution of column:\n",
      "\n",
      "Outstanding_Debt\n",
      "1360.45     24\n",
      "1109.03     23\n",
      "1151.7      23\n",
      "460.46      23\n",
      "208.96      16\n",
      "            ..\n",
      "860.37_      1\n",
      "290.39_      1\n",
      "2866.5_      1\n",
      "1472.86_     1\n",
      "2797.17_     1\n",
      "Name: count, Length: 13178, dtype: int64\n"
     ]
    }
   ],
   "source": [
    "#Outstanding_Debt\n",
    "column_name='Outstanding_Debt'\n",
    "group_by='Customer_ID'\n",
    "get_column_details(df_train,column_name)"
   ]
  },
  {
   "cell_type": "code",
   "execution_count": 42,
   "metadata": {},
   "outputs": [
    {
     "name": "stdout",
     "output_type": "stream",
     "text": [
      "\n",
      "-----------------------------------------------------\n",
      "\n",
      "Cleaning steps \n",
      "\n",
      "Trailing & leading _ are removed\n",
      "\n",
      "Datatype of Outstanding_Debt is changed to float\n",
      "\n",
      "Existing Min, Max Values: 0.23 4998.07\n",
      "\n",
      "After Cleaning Min, Max Values: 0.23 4998.07\n",
      "\n",
      "No. of Unique values after Cleaning: 12203\n",
      "\n",
      "No. of Null values after Cleaning: 0\n"
     ]
    }
   ],
   "source": [
    "clean_numerical_field(df_train,group_by,column_name,strip='_',datatype='float')"
   ]
  },
  {
   "cell_type": "code",
   "execution_count": 43,
   "metadata": {},
   "outputs": [
    {
     "name": "stdout",
     "output_type": "stream",
     "text": [
      "Details of Credit_Utilization_Ratio column\n",
      "\n",
      "DataType:  float64\n",
      "\n",
      "There are no null values\n",
      "\n",
      "Number of Unique Values:  100000\n",
      "\n",
      "Distribution of column:\n",
      "\n",
      "Credit_Utilization_Ratio\n",
      "27.289440    1\n",
      "33.494867    1\n",
      "31.738359    1\n",
      "30.625298    1\n",
      "23.140640    1\n",
      "            ..\n",
      "31.377862    1\n",
      "24.797347    1\n",
      "27.262259    1\n",
      "22.537593    1\n",
      "23.933795    1\n",
      "Name: count, Length: 100000, dtype: int64\n"
     ]
    }
   ],
   "source": [
    "#Credit_Utilization_Ratio\n",
    "column_name='Credit_Utilization_Ratio'\n",
    "group_by='Customer_ID'\n",
    "get_column_details(df_train,column_name)"
   ]
  },
  {
   "cell_type": "code",
   "execution_count": 44,
   "metadata": {},
   "outputs": [
    {
     "name": "stdout",
     "output_type": "stream",
     "text": [
      "Details of Credit_History_Age column\n",
      "\n",
      "DataType:  object\n",
      "\n",
      "There are  9030  null values\n",
      "\n",
      "Number of Unique Values:  404\n",
      "\n",
      "Distribution of column:\n",
      "\n",
      "Credit_History_Age\n",
      "15 Years and 11 Months    446\n",
      "19 Years and 4 Months     445\n",
      "19 Years and 5 Months     444\n",
      "17 Years and 11 Months    443\n",
      "19 Years and 3 Months     441\n",
      "                         ... \n",
      "0 Years and 3 Months       20\n",
      "0 Years and 2 Months       15\n",
      "33 Years and 7 Months      14\n",
      "33 Years and 8 Months      12\n",
      "0 Years and 1 Months        2\n",
      "Name: count, Length: 404, dtype: int64\n"
     ]
    }
   ],
   "source": [
    "# Credit_History_Age \n",
    "column_name='Credit_History_Age'\n",
    "group_by='Customer_ID'\n",
    "get_column_details(df_train,column_name)"
   ]
  },
  {
   "cell_type": "code",
   "execution_count": 45,
   "metadata": {},
   "outputs": [],
   "source": [
    "def Month_Converter(val):\n",
    "    if pd.notnull(val):\n",
    "        years = int(val.split(' ')[0])\n",
    "        month = int(val.split(' ')[3])\n",
    "        return (years*12)+month\n",
    "    else:\n",
    "        return val\n",
    "    \n",
    "df_train['Credit_History_Age'] = df_train['Credit_History_Age'].apply(lambda x: Month_Converter(x)).astype(float)\n"
   ]
  },
  {
   "cell_type": "code",
   "execution_count": 46,
   "metadata": {},
   "outputs": [
    {
     "name": "stdout",
     "output_type": "stream",
     "text": [
      "\n",
      "-----------------------------------------------------\n",
      "\n",
      "Cleaning steps \n",
      "\n",
      "Datatype of Credit_History_Age is changed to float\n",
      "\n",
      "Existing Min, Max Values: 1.0 404.0\n",
      "\n",
      "After Cleaning Min, Max Values: 1.0 404.0\n",
      "\n",
      "No. of Unique values after Cleaning: 405\n",
      "\n",
      "No. of Null values after Cleaning: 0\n"
     ]
    }
   ],
   "source": [
    "clean_numerical_field(df_train,group_by,column_name,strip='_',datatype='float')"
   ]
  },
  {
   "cell_type": "code",
   "execution_count": 47,
   "metadata": {},
   "outputs": [
    {
     "name": "stdout",
     "output_type": "stream",
     "text": [
      "Details of Payment_of_Min_Amount column\n",
      "\n",
      "DataType:  object\n",
      "\n",
      "There are no null values\n",
      "\n",
      "Number of Unique Values:  3\n",
      "\n",
      "Distribution of column:\n",
      "\n",
      "Payment_of_Min_Amount\n",
      "Yes    52326\n",
      "No     35667\n",
      "NM     12007\n",
      "Name: count, dtype: int64\n"
     ]
    }
   ],
   "source": [
    "# Payment_of_Min_Amount\n",
    "column_name='Payment_of_Min_Amount'\n",
    "group_by='Customer_ID'\n",
    "get_column_details(df_train,column_name)"
   ]
  },
  {
   "cell_type": "code",
   "execution_count": 48,
   "metadata": {},
   "outputs": [
    {
     "name": "stdout",
     "output_type": "stream",
     "text": [
      "Details of Amount_invested_monthly column\n",
      "\n",
      "DataType:  object\n",
      "\n",
      "There are  4479  null values\n",
      "\n",
      "Number of Unique Values:  91049\n",
      "\n",
      "Distribution of column:\n",
      "\n",
      "Amount_invested_monthly\n",
      "__10000__             4305\n",
      "0.0                    169\n",
      "167.1638651610451        1\n",
      "80.41529543900253        1\n",
      "118.28022162236736       1\n",
      "                      ... \n",
      "78.51494451125625        1\n",
      "114.8504246633256        1\n",
      "31.19391926667726        1\n",
      "450.6460933992599        1\n",
      "187.3559686116327        1\n",
      "Name: count, Length: 91049, dtype: int64\n"
     ]
    }
   ],
   "source": [
    "#Amount_invested_monthly\n",
    "column_name='Amount_invested_monthly'\n",
    "group_by='Customer_ID'\n",
    "get_column_details(df_train,column_name)\n"
   ]
  },
  {
   "cell_type": "code",
   "execution_count": 49,
   "metadata": {},
   "outputs": [
    {
     "name": "stdout",
     "output_type": "stream",
     "text": [
      "\n",
      "-----------------------------------------------------\n",
      "\n",
      "Cleaning steps \n",
      "\n",
      "Trailing & leading _ are removed\n",
      "\n",
      "Datatype of Amount_invested_monthly is changed to float\n",
      "\n",
      "Existing Min, Max Values: 0.0 10000.0\n",
      "\n",
      "After Cleaning Min, Max Values: 0.0 10000.0\n",
      "\n",
      "No. of Unique values after Cleaning: 91050\n",
      "\n",
      "No. of Null values after Cleaning: 0\n"
     ]
    }
   ],
   "source": [
    "clean_numerical_field(df_train,group_by,column_name,strip='_',datatype='float')"
   ]
  },
  {
   "cell_type": "code",
   "execution_count": 50,
   "metadata": {},
   "outputs": [
    {
     "name": "stdout",
     "output_type": "stream",
     "text": [
      "Details of Payment_Behaviour column\n",
      "\n",
      "DataType:  object\n",
      "\n",
      "There are no null values\n",
      "\n",
      "Number of Unique Values:  7\n",
      "\n",
      "Distribution of column:\n",
      "\n",
      "Payment_Behaviour\n",
      "Low_spent_Small_value_payments      25513\n",
      "High_spent_Medium_value_payments    17540\n",
      "Low_spent_Medium_value_payments     13861\n",
      "High_spent_Large_value_payments     13721\n",
      "High_spent_Small_value_payments     11340\n",
      "Low_spent_Large_value_payments      10425\n",
      "!@9#%8                               7600\n",
      "Name: count, dtype: int64\n"
     ]
    }
   ],
   "source": [
    "# Payment_Behaviour\n",
    "column_name='Payment_Behaviour'\n",
    "group_by='Customer_ID'\n",
    "get_column_details(df_train,column_name)\n"
   ]
  },
  {
   "cell_type": "code",
   "execution_count": 51,
   "metadata": {},
   "outputs": [
    {
     "name": "stdout",
     "output_type": "stream",
     "text": [
      "\n",
      "-----------------------------------------------------\n",
      "\n",
      "Cleaning steps \n",
      "\n",
      "Garbage value !@9#%8 is replaced with np.nan\n",
      "\n",
      "No. of missing values before filling with group mode: 7600\n",
      "\n",
      "No. of missing values after filling with group mode: 0\n"
     ]
    }
   ],
   "source": [
    "clean_categorical_field(df_train,group_by,column_name,replace_value='!@9#%8')"
   ]
  },
  {
   "cell_type": "code",
   "execution_count": 52,
   "metadata": {},
   "outputs": [
    {
     "name": "stdout",
     "output_type": "stream",
     "text": [
      "Details of Monthly_Balance column\n",
      "\n",
      "DataType:  object\n",
      "\n",
      "There are  1200  null values\n",
      "\n",
      "Number of Unique Values:  98792\n",
      "\n",
      "Distribution of column:\n",
      "\n",
      "Monthly_Balance\n",
      "__-333333333333333333333333333__    9\n",
      "310.883806                          1\n",
      "446.671142                          1\n",
      "356.07810855965045                  1\n",
      "393.673696                          1\n",
      "                                   ..\n",
      "520.662207                          1\n",
      "151.210033                          1\n",
      "394.500158                          1\n",
      "350.982329                          1\n",
      "364.00001570479753                  1\n",
      "Name: count, Length: 98792, dtype: int64\n"
     ]
    }
   ],
   "source": [
    "# Monthly_Balance\n",
    "column_name='Monthly_Balance'\n",
    "group_by='Customer_ID'\n",
    "get_column_details(df_train,column_name)"
   ]
  },
  {
   "cell_type": "code",
   "execution_count": 53,
   "metadata": {},
   "outputs": [
    {
     "name": "stdout",
     "output_type": "stream",
     "text": [
      "\n",
      "-----------------------------------------------------\n",
      "\n",
      "Cleaning steps \n",
      "\n",
      "Garbage value __-333333333333333333333333333__ is replaced with np.nan\n",
      "\n",
      "Trailing & leading _ are removed\n",
      "\n",
      "Datatype of Monthly_Balance is changed to <class 'float'>\n",
      "\n",
      "Existing Min, Max Values: 0.007759664775335295 1602.0405189622518\n"
     ]
    },
    {
     "name": "stderr",
     "output_type": "stream",
     "text": [
      "C:\\Users\\Samruddhi\\AppData\\Local\\Temp\\ipykernel_1900\\1217296871.py:9: SmallSampleWarning: After omitting NaNs, one or more sample arguments is too small; all returned values will be NaN. See documentation for sample size requirements.\n",
      "  mode_result = stats.mode(x, nan_policy='omit')\n"
     ]
    },
    {
     "name": "stdout",
     "output_type": "stream",
     "text": [
      "\n",
      "After Cleaning Min, Max Values: 0.007759664775335295 1602.0405189622518\n",
      "\n",
      "No. of Unique values after Cleaning: 97124\n",
      "\n",
      "No. of Null values after Cleaning: 0\n"
     ]
    }
   ],
   "source": [
    "df_train[column_name].replace('',np.nan)\n",
    "clean_numerical_field(df_train,group_by,column_name,strip='_',datatype=float,replace_value='__-333333333333333333333333333__')"
   ]
  },
  {
   "cell_type": "code",
   "execution_count": 54,
   "metadata": {},
   "outputs": [
    {
     "name": "stdout",
     "output_type": "stream",
     "text": [
      "Details of Credit_Score column\n",
      "\n",
      "DataType:  object\n",
      "\n",
      "There are no null values\n",
      "\n",
      "Number of Unique Values:  3\n",
      "\n",
      "Distribution of column:\n",
      "\n",
      "Credit_Score\n",
      "Standard    53174\n",
      "Poor        28998\n",
      "Good        17828\n",
      "Name: count, dtype: int64\n"
     ]
    }
   ],
   "source": [
    "# Credit_Score\n",
    "column_name='Credit_Score'\n",
    "group_by='Customer_ID'\n",
    "get_column_details(df_train,column_name)"
   ]
  },
  {
   "cell_type": "code",
   "execution_count": 55,
   "metadata": {},
   "outputs": [
    {
     "name": "stdout",
     "output_type": "stream",
     "text": [
      "\n",
      "-----------------------------------------------------\n",
      "\n",
      "Cleaning steps \n",
      "\n",
      "No. of missing values before filling with group mode: 0\n",
      "\n",
      "No. of missing values after filling with group mode: 0\n"
     ]
    }
   ],
   "source": [
    "clean_categorical_field(df_train,group_by,column_name)"
   ]
  },
  {
   "cell_type": "code",
   "execution_count": 58,
   "metadata": {},
   "outputs": [],
   "source": [
    "drop_colnum=['ID','Customer_ID','Name','SSN']\n",
    "df_train.drop(drop_colnum,axis=1,inplace=True)\n"
   ]
  },
  {
   "cell_type": "code",
   "execution_count": 61,
   "metadata": {},
   "outputs": [
    {
     "name": "stdout",
     "output_type": "stream",
     "text": [
      "(100000, 24)\n",
      "<bound method NDFrame.describe of        Month         Age Occupation  Annual_Income  Monthly_Inhand_Salary  \\\n",
      "0          1   23.000000  Scientist       19114.12            1824.843333   \n",
      "1          2   23.000000  Scientist       19114.12            4194.170850   \n",
      "2          3  116.108421  Scientist       19114.12            4194.170850   \n",
      "3          4   23.000000  Scientist       19114.12            4194.170850   \n",
      "4          5   23.000000  Scientist       19114.12            1824.843333   \n",
      "...      ...         ...        ...            ...                    ...   \n",
      "99995      4   25.000000   Mechanic       39628.99            3359.415833   \n",
      "99996      5   25.000000   Mechanic       39628.99            3359.415833   \n",
      "99997      6   25.000000   Mechanic       39628.99            3359.415833   \n",
      "99998      7   25.000000   Mechanic       39628.99            3359.415833   \n",
      "99999      8   25.000000   Mechanic       39628.99            3359.415833   \n",
      "\n",
      "       Num_Bank_Accounts  Num_Credit_Card  Interest_Rate  Num_of_Loan  \\\n",
      "0                    3.0              4.0            3.0          4.0   \n",
      "1                    3.0              4.0            3.0          4.0   \n",
      "2                    3.0              4.0            3.0          4.0   \n",
      "3                    3.0              4.0            3.0          4.0   \n",
      "4                    3.0              4.0            3.0          4.0   \n",
      "...                  ...              ...            ...          ...   \n",
      "99995                4.0              6.0            7.0          2.0   \n",
      "99996                4.0              6.0            7.0          2.0   \n",
      "99997                4.0              6.0         5729.0          2.0   \n",
      "99998                4.0              6.0            7.0          2.0   \n",
      "99999                4.0              6.0            7.0          2.0   \n",
      "\n",
      "                                            Type_of_Loan  ...  Credit_Mix  \\\n",
      "0      Auto Loan, Credit-Builder Loan, Personal Loan,...  ...        Good   \n",
      "1      Auto Loan, Credit-Builder Loan, Personal Loan,...  ...        Good   \n",
      "2      Auto Loan, Credit-Builder Loan, Personal Loan,...  ...        Good   \n",
      "3      Auto Loan, Credit-Builder Loan, Personal Loan,...  ...        Good   \n",
      "4      Auto Loan, Credit-Builder Loan, Personal Loan,...  ...        Good   \n",
      "...                                                  ...  ...         ...   \n",
      "99995                        Auto Loan, and Student Loan  ...        Good   \n",
      "99996                        Auto Loan, and Student Loan  ...        Good   \n",
      "99997                        Auto Loan, and Student Loan  ...        Good   \n",
      "99998                        Auto Loan, and Student Loan  ...        Good   \n",
      "99999                        Auto Loan, and Student Loan  ...        Good   \n",
      "\n",
      "       Outstanding_Debt  Credit_Utilization_Ratio  Credit_History_Age  \\\n",
      "0                809.98                 26.822620          265.000000   \n",
      "1                809.98                 31.944960          221.195405   \n",
      "2                809.98                 28.609352          267.000000   \n",
      "3                809.98                 31.377862          268.000000   \n",
      "4                809.98                 24.797347          269.000000   \n",
      "...                 ...                       ...                 ...   \n",
      "99995            502.38                 34.663572          378.000000   \n",
      "99996            502.38                 40.565631          379.000000   \n",
      "99997            502.38                 41.255522          380.000000   \n",
      "99998            502.38                 33.638208          381.000000   \n",
      "99999            502.38                 34.192463          382.000000   \n",
      "\n",
      "      Payment_of_Min_Amount  Total_EMI_per_month  Amount_invested_monthly  \\\n",
      "0                        No            49.574949                80.415295   \n",
      "1                        No            49.574949               118.280222   \n",
      "2                        No            49.574949                81.699521   \n",
      "3                        No            49.574949               199.458074   \n",
      "4                        No            49.574949                41.420153   \n",
      "...                     ...                  ...                      ...   \n",
      "99995                    No            35.104023                60.971333   \n",
      "99996                    No            35.104023                54.185950   \n",
      "99997                    No            35.104023                24.028477   \n",
      "99998                    No            35.104023               251.672582   \n",
      "99999                    No            35.104023               167.163865   \n",
      "\n",
      "                      Payment_Behaviour Monthly_Balance  Credit_Score  \n",
      "0       High_spent_Small_value_payments      312.494089          Good  \n",
      "1        Low_spent_Large_value_payments      284.629162          Good  \n",
      "2       Low_spent_Medium_value_payments      331.209863          Good  \n",
      "3        Low_spent_Small_value_payments      223.451310          Good  \n",
      "4      High_spent_Medium_value_payments      341.489231          Good  \n",
      "...                                 ...             ...           ...  \n",
      "99995   High_spent_Large_value_payments      402.164483          Poor  \n",
      "99996  High_spent_Medium_value_payments      402.164483          Poor  \n",
      "99997   High_spent_Large_value_payments      402.164483          Poor  \n",
      "99998    Low_spent_Large_value_payments      402.164483      Standard  \n",
      "99999   High_spent_Large_value_payments      402.164483          Poor  \n",
      "\n",
      "[100000 rows x 24 columns]>\n"
     ]
    }
   ],
   "source": [
    "print(df_train.shape)\n",
    "print(df_train.describe)"
   ]
  },
  {
   "cell_type": "code",
   "execution_count": 63,
   "metadata": {},
   "outputs": [],
   "source": [
    "from sklearn.preprocessing import LabelEncoder\n",
    "label_col=['Occupation','Type_of_Loan','Credit_Mix','Payment_of_Min_Amount','Payment_Behaviour','Credit_Score']\n",
    "label_encoder=LabelEncoder()\n",
    "for col in label_col:\n",
    "    df_train[col]=label_encoder.fit_transform(df_train[col])"
   ]
  },
  {
   "cell_type": "code",
   "execution_count": 64,
   "metadata": {},
   "outputs": [
    {
     "data": {
      "text/plain": [
       "<bound method NDFrame.head of        Month         Age  Occupation  Annual_Income  Monthly_Inhand_Salary  \\\n",
       "0          1   23.000000          12       19114.12            1824.843333   \n",
       "1          2   23.000000          12       19114.12            4194.170850   \n",
       "2          3  116.108421          12       19114.12            4194.170850   \n",
       "3          4   23.000000          12       19114.12            4194.170850   \n",
       "4          5   23.000000          12       19114.12            1824.843333   \n",
       "...      ...         ...         ...            ...                    ...   \n",
       "99995      4   25.000000           9       39628.99            3359.415833   \n",
       "99996      5   25.000000           9       39628.99            3359.415833   \n",
       "99997      6   25.000000           9       39628.99            3359.415833   \n",
       "99998      7   25.000000           9       39628.99            3359.415833   \n",
       "99999      8   25.000000           9       39628.99            3359.415833   \n",
       "\n",
       "       Num_Bank_Accounts  Num_Credit_Card  Interest_Rate  Num_of_Loan  \\\n",
       "0                    3.0              4.0            3.0          4.0   \n",
       "1                    3.0              4.0            3.0          4.0   \n",
       "2                    3.0              4.0            3.0          4.0   \n",
       "3                    3.0              4.0            3.0          4.0   \n",
       "4                    3.0              4.0            3.0          4.0   \n",
       "...                  ...              ...            ...          ...   \n",
       "99995                4.0              6.0            7.0          2.0   \n",
       "99996                4.0              6.0            7.0          2.0   \n",
       "99997                4.0              6.0         5729.0          2.0   \n",
       "99998                4.0              6.0            7.0          2.0   \n",
       "99999                4.0              6.0            7.0          2.0   \n",
       "\n",
       "       Type_of_Loan  ...  Credit_Mix  Outstanding_Debt  \\\n",
       "0               128  ...           1            809.98   \n",
       "1               128  ...           1            809.98   \n",
       "2               128  ...           1            809.98   \n",
       "3               128  ...           1            809.98   \n",
       "4               128  ...           1            809.98   \n",
       "...             ...  ...         ...               ...   \n",
       "99995           683  ...           1            502.38   \n",
       "99996           683  ...           1            502.38   \n",
       "99997           683  ...           1            502.38   \n",
       "99998           683  ...           1            502.38   \n",
       "99999           683  ...           1            502.38   \n",
       "\n",
       "       Credit_Utilization_Ratio  Credit_History_Age  Payment_of_Min_Amount  \\\n",
       "0                     26.822620          265.000000                      1   \n",
       "1                     31.944960          221.195405                      1   \n",
       "2                     28.609352          267.000000                      1   \n",
       "3                     31.377862          268.000000                      1   \n",
       "4                     24.797347          269.000000                      1   \n",
       "...                         ...                 ...                    ...   \n",
       "99995                 34.663572          378.000000                      1   \n",
       "99996                 40.565631          379.000000                      1   \n",
       "99997                 41.255522          380.000000                      1   \n",
       "99998                 33.638208          381.000000                      1   \n",
       "99999                 34.192463          382.000000                      1   \n",
       "\n",
       "       Total_EMI_per_month  Amount_invested_monthly  Payment_Behaviour  \\\n",
       "0                49.574949                80.415295                  2   \n",
       "1                49.574949               118.280222                  3   \n",
       "2                49.574949                81.699521                  4   \n",
       "3                49.574949               199.458074                  5   \n",
       "4                49.574949                41.420153                  1   \n",
       "...                    ...                      ...                ...   \n",
       "99995            35.104023                60.971333                  0   \n",
       "99996            35.104023                54.185950                  1   \n",
       "99997            35.104023                24.028477                  0   \n",
       "99998            35.104023               251.672582                  3   \n",
       "99999            35.104023               167.163865                  0   \n",
       "\n",
       "       Monthly_Balance  Credit_Score  \n",
       "0           312.494089             0  \n",
       "1           284.629162             0  \n",
       "2           331.209863             0  \n",
       "3           223.451310             0  \n",
       "4           341.489231             0  \n",
       "...                ...           ...  \n",
       "99995       402.164483             1  \n",
       "99996       402.164483             1  \n",
       "99997       402.164483             1  \n",
       "99998       402.164483             2  \n",
       "99999       402.164483             1  \n",
       "\n",
       "[100000 rows x 24 columns]>"
      ]
     },
     "execution_count": 64,
     "metadata": {},
     "output_type": "execute_result"
    }
   ],
   "source": [
    "df_train.head"
   ]
  },
  {
   "cell_type": "code",
   "execution_count": 65,
   "metadata": {},
   "outputs": [
    {
     "name": "stdout",
     "output_type": "stream",
     "text": [
      "(100000, 23)\n",
      "(100000,)\n"
     ]
    }
   ],
   "source": [
    "x=df_train.drop('Credit_Score',axis=1)\n",
    "y=df_train['Credit_Score']\n",
    "print(x.shape)\n",
    "print(y.shape)"
   ]
  },
  {
   "cell_type": "code",
   "execution_count": 66,
   "metadata": {},
   "outputs": [],
   "source": [
    "from sklearn.preprocessing import MinMaxScaler\n",
    "scale=MinMaxScaler()\n",
    "x=scale.fit_transform(x)"
   ]
  },
  {
   "cell_type": "code",
   "execution_count": 67,
   "metadata": {},
   "outputs": [],
   "source": [
    "from sklearn.model_selection import train_test_split\n",
    "x_train , x_test , y_train , y_test= train_test_split(x,y,test_size=0.2,stratify=y)\n"
   ]
  },
  {
   "cell_type": "code",
   "execution_count": 76,
   "metadata": {},
   "outputs": [
    {
     "name": "stdout",
     "output_type": "stream",
     "text": [
      "classification report\n",
      "              precision    recall  f1-score   support\n",
      "\n",
      "           0       0.77      0.79      0.78      3566\n",
      "           1       0.79      0.82      0.80      5799\n",
      "           2       0.84      0.81      0.82     10635\n",
      "\n",
      "    accuracy                           0.81     20000\n",
      "   macro avg       0.80      0.81      0.80     20000\n",
      "weighted avg       0.81      0.81      0.81     20000\n",
      "\n"
     ]
    },
    {
     "data": {
      "text/plain": [
       "<Axes: >"
      ]
     },
     "execution_count": 76,
     "metadata": {},
     "output_type": "execute_result"
    },
    {
     "data": {
      "image/png": "[encoded data removed]",
      "text/plain": [
       "<Figure size 640x480 with 2 Axes>"
      ]
     },
     "metadata": {},
     "output_type": "display_data"
    }
   ],
   "source": [
    "from sklearn.ensemble import RandomForestClassifier\n",
    "from sklearn.metrics import precision_score,accuracy_score,recall_score,confusion_matrix,classification_report\n",
    "rf=RandomForestClassifier(n_estimators=100,random_state=42)\n",
    "rf.fit(x_train,y_train)\n",
    "y_pred=rf.predict(x_test)\n",
    "\n",
    "print(\"classification report\")\n",
    "print(classification_report(y_test,y_pred))\n",
    "cn=confusion_matrix(y_test,y_pred)\n",
    "sns.heatmap(cn,annot=True, cmap='Greens',fmt='.0f')"
   ]
  },
  {
   "cell_type": "code",
   "execution_count": 72,
   "metadata": {},
   "outputs": [
    {
     "name": "stdout",
     "output_type": "stream",
     "text": [
      "[1 2 0 ... 1 0 1]\n"
     ]
    }
   ],
   "source": [
    "print(y_pred)"
   ]
  },
  {
   "cell_type": "code",
   "execution_count": 75,
   "metadata": {},
   "outputs": [
    {
     "data": {
      "text/plain": [
       "8046     1\n",
       "65245    2\n",
       "359      0\n",
       "82764    2\n",
       "81149    2\n",
       "        ..\n",
       "85806    1\n",
       "25578    0\n",
       "16659    2\n",
       "72224    0\n",
       "50172    1\n",
       "Name: Credit_Score, Length: 20000, dtype: int64"
      ]
     },
     "execution_count": 75,
     "metadata": {},
     "output_type": "execute_result"
    }
   ],
   "source": [
    "y_test"
   ]
  },
  {
   "cell_type": "code",
   "execution_count": null,
   "metadata": {},
   "outputs": [],
   "source": []
  }
 ],
 "metadata": {
  "kernelspec": {
   "display_name": "Python 3",
   "language": "python",
   "name": "python3"
  },
  "language_info": {
   "codemirror_mode": {
    "name": "ipython",
    "version": 3
   },
   "file_extension": ".py",
   "mimetype": "text/x-python",
   "name": "python",
   "nbconvert_exporter": "python",
   "pygments_lexer": "ipython3",
   "version": "3.11.3"
  }
 },
 "nbformat": 4,
 "nbformat_minor": 2
}
